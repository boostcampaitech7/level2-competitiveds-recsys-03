{
 "cells": [
  {
   "cell_type": "code",
   "execution_count": 1,
   "metadata": {},
   "outputs": [
    {
     "name": "stderr",
     "output_type": "stream",
     "text": [
      "/opt/conda/lib/python3.10/site-packages/tqdm/auto.py:21: TqdmWarning: IProgress not found. Please update jupyter and ipywidgets. See https://ipywidgets.readthedocs.io/en/stable/user_install.html\n",
      "  from .autonotebook import tqdm as notebook_tqdm\n"
     ]
    }
   ],
   "source": [
    "from data.load_dataset import load_dataset\n",
    "from data.merge_dataset import merge_dataset\n",
    "from data.feature_engineering import *\n",
    "from model.model_train import *\n",
    "from sklearn.model_selection import train_test_split\n",
    "from sklearn.preprocessing import StandardScaler\n",
    "from sklearn.preprocessing import PolynomialFeatures\n",
    "import torch\n",
    "import seaborn as sns\n",
    "from matplotlib.ticker import ScalarFormatter\n",
    "import torch.nn as nn\n",
    "import torch.optim as optim\n",
    "from torch.utils.data import DataLoader, TensorDataset\n",
    "import matplotlib.pyplot as plt\n",
    "import warnings\n",
    "warnings.filterwarnings(\"ignore\", category=UserWarning)"
   ]
  },
  {
   "cell_type": "code",
   "execution_count": 2,
   "metadata": {},
   "outputs": [],
   "source": [
    "import random\n",
    "\n",
    "random.seed(42)\n",
    "np.random.seed(42)\n",
    "torch.manual_seed(42)\n",
    "if torch.cuda.is_available():\n",
    "    torch.cuda.manual_seed(42)\n",
    "    torch.cuda.manual_seed_all(42)\n",
    "    torch.backends.cudnn.deterministic = True\n",
    "    torch.backends.cudnn.benchmark = False"
   ]
  },
  {
   "cell_type": "code",
   "execution_count": 3,
   "metadata": {},
   "outputs": [
    {
     "data": {
      "text/plain": [
       "'cuda'"
      ]
     },
     "execution_count": 3,
     "metadata": {},
     "output_type": "execute_result"
    }
   ],
   "source": [
    "match torch.cuda.is_available():\n",
    "    case True: device = \"cuda\"\n",
    "    case _: device = \"cpu\"\n",
    "\n",
    "device"
   ]
  },
  {
   "cell_type": "code",
   "execution_count": 4,
   "metadata": {},
   "outputs": [
    {
     "name": "stderr",
     "output_type": "stream",
     "text": [
      "/opt/conda/lib/python3.10/site-packages/pandas/core/internals/blocks.py:393: RuntimeWarning: divide by zero encountered in log1p\n",
      "  result = func(self.values, **kwargs)\n",
      "/opt/conda/lib/python3.10/site-packages/pandas/core/internals/blocks.py:393: RuntimeWarning: invalid value encountered in log1p\n",
      "  result = func(self.values, **kwargs)\n",
      "/opt/conda/lib/python3.10/site-packages/pandas/core/internals/blocks.py:393: RuntimeWarning: divide by zero encountered in log1p\n",
      "  result = func(self.values, **kwargs)\n",
      "/opt/conda/lib/python3.10/site-packages/pandas/core/internals/blocks.py:393: RuntimeWarning: invalid value encountered in log1p\n",
      "  result = func(self.values, **kwargs)\n"
     ]
    }
   ],
   "source": [
    "# 데이터 로드\n",
    "train_data, test_data, sample_submission, interest_data, subway_data, school_data, park_data = load_dataset()\n",
    "train_data, test_data = merge_dataset(train_data, test_data, interest_data, subway_data, school_data, park_data)\n",
    "\n",
    "\n",
    "### 데이터 전처리\n",
    "\n",
    "# 위치 중복도 낮은 행 삭제\n",
    "groups = train_data.groupby([\"latitude\", \"longitude\"])[\"index\"].count()\n",
    "conditioned_groups_index = groups[(groups >= 2) & (groups <= 5)].index # 이 범위를 파라미터로 조정하는걸로\n",
    "small_groups = train_data[\n",
    "    train_data[\"latitude\"].isin(conditioned_groups_index.get_level_values(0)) &\n",
    "    train_data[\"longitude\"].isin(conditioned_groups_index.get_level_values(1))\n",
    "]\n",
    "train_data.drop(small_groups.index, axis=0, inplace=True)\n",
    "\n",
    "# built_year > 2024 행 삭제\n",
    "train_data = train_data[train_data[\"built_year\"] < 2024]\n",
    "train_data.reset_index(drop=True, inplace=True)\n",
    "\n",
    "# log 변환\n",
    "train_data, test_data = apply_log_transformation(train_data, test_data)\n",
    "\n",
    "# year_month 변수 분리\n",
    "train_data[\"contract_year\"] = train_data[\"contract_year_month\"] // 100\n",
    "train_data[\"contract_month\"] = train_data[\"contract_year_month\"] % 100\n",
    "test_data[\"contract_year\"] = test_data[\"contract_year_month\"] // 100\n",
    "test_data[\"contract_month\"] = test_data[\"contract_year_month\"] % 100\n"
   ]
  },
  {
   "cell_type": "code",
   "execution_count": 5,
   "metadata": {},
   "outputs": [
    {
     "data": {
      "text/plain": [
       "Index(['index', 'area_m2', 'contract_year_month', 'contract_day',\n",
       "       'contract_type', 'floor', 'built_year', 'latitude', 'longitude', 'age',\n",
       "       'deposit', 'interest_rate', 'nearest_subway_distance',\n",
       "       'nearest_subway_latitude', 'nearest_subway_longitude',\n",
       "       'nearest_school_distance', 'nearest_school_latitude',\n",
       "       'nearest_school_longitude', 'nearest_park_distance',\n",
       "       'nearest_park_latitude', 'nearest_park_longitude', 'nearest_subway_num',\n",
       "       'nearest_school_num', 'nearest_park_num',\n",
       "       'num_of_subways_within_radius', 'num_of_schools_within_radius',\n",
       "       'num_of_parks_within_radius', 'park', 'region',\n",
       "       'nearest_leader_distance', 'nearest_leader_latitude',\n",
       "       'nearest_leader_longitude', 'log_deposit', 'log_area_m2',\n",
       "       'log_subway_distance', 'log_school_distance', 'log_park_distance',\n",
       "       'log_leader_distance', 'contract_year', 'contract_month'],\n",
       "      dtype='object')"
      ]
     },
     "execution_count": 5,
     "metadata": {},
     "output_type": "execute_result"
    }
   ],
   "source": [
    "train_data.columns"
   ]
  },
  {
   "cell_type": "code",
   "execution_count": 6,
   "metadata": {},
   "outputs": [],
   "source": [
    "# feature selection\n",
    "selected_cols = [\n",
    "    \"area_m2\",\n",
    "    \"built_year\",\n",
    "    \"latitude\",\n",
    "    \"longitude\",\n",
    "    \"log_leader_distance\",\n",
    "    \"log_subway_distance\",\n",
    "    # \"log_school_distance\",\n",
    "    \"log_park_distance\",\n",
    "    # \"contract_year_month\",\n",
    "    \"num_of_subways_within_radius\",\n",
    "    \"park\",\n",
    "    \"region\",\n",
    "    # 추가 변수\n",
    "    # \"interest_rate\",\n",
    "    # \"num_of_schools_within_radius\",\n",
    "    # \"num_of_parks_within_radius\",\n",
    "    # \"contract_type\",\n",
    "    \"contract_year\",\n",
    "    \"contract_month\"\n",
    "]"
   ]
  },
  {
   "cell_type": "code",
   "execution_count": 7,
   "metadata": {},
   "outputs": [],
   "source": [
    "X_train, y_train = train_data[selected_cols], train_data[\"deposit\"]\n",
    "X_test = test_data[selected_cols]\n",
    "log_y_train = train_data[\"log_deposit\"]\n",
    "\n",
    "# StandardScaler 적용\n",
    "scaler = StandardScaler()\n",
    "X_train = scaler.fit_transform(X_train, y_train)\n",
    "X_test = scaler.fit_transform(X_test)\n",
    "\n",
    "# 다항식 변환 적용 (2차 다항식)\n",
    "poly = PolynomialFeatures(degree=2, include_bias=False)\n",
    "X_train = poly.fit_transform(X_train)\n",
    "X_test = poly.fit_transform(X_test)\n",
    "\n",
    "# 훈련, 검증 데이터 분리\n",
    "X_train, X_valid, y_train, y_valid = train_test_split(X_train, y_train, test_size=0.2)\n",
    "\n",
    "# 자료형 변경\n",
    "X_train = torch.tensor(X_train, dtype=torch.float32, device=device)\n",
    "y_train = torch.tensor(y_train.values, dtype=torch.float32, device=device)\n",
    "X_val = torch.tensor(X_valid, dtype=torch.float32, device=device)\n",
    "y_val = torch.tensor(y_valid.values, dtype=torch.float32, device=device)\n",
    "X_test = torch.tensor(X_test, dtype=torch.float32, device=device)\n",
    "\n",
    "# 데이터로더 설정\n",
    "train_dataset = TensorDataset(X_train, y_train)\n",
    "val_dataset = TensorDataset(X_val, y_val)\n",
    "train_loader = DataLoader(train_dataset, batch_size=128, shuffle=True)\n",
    "val_loader = DataLoader(val_dataset, batch_size=128, shuffle=False)\n"
   ]
  },
  {
   "cell_type": "code",
   "execution_count": 8,
   "metadata": {},
   "outputs": [
    {
     "data": {
      "text/plain": [
       "torch.Size([1432100, 90])"
      ]
     },
     "execution_count": 8,
     "metadata": {},
     "output_type": "execute_result"
    }
   ],
   "source": [
    "X_train.shape"
   ]
  },
  {
   "cell_type": "code",
   "execution_count": 9,
   "metadata": {},
   "outputs": [],
   "source": [
    "### MLP 모델 정의\n",
    "input_size = X_train.shape[1]\n",
    "\n",
    "class SimpleModel(nn.Module):\n",
    "    def __init__(self):\n",
    "        super(SimpleModel, self).__init__()\n",
    "        self.fc1 = nn.Linear(input_size, 64)\n",
    "        self.fc2 = nn.Linear(64, 16)\n",
    "        self.fc3 = nn.Linear(16, 1)\n",
    "        self.relu = nn.ReLU()\n",
    "        self.softplus = nn.Softplus()\n",
    "        self.dropout = nn.Dropout(p=0.2)\n",
    "\n",
    "    def forward(self, x):\n",
    "        x = self.relu(self.fc1(x))\n",
    "        x = self.dropout(x)\n",
    "        x = self.relu(self.fc2(x))\n",
    "        x = self.dropout(x)\n",
    "        out = self.softplus(self.fc3(x))\n",
    "        return out"
   ]
  },
  {
   "cell_type": "code",
   "execution_count": 10,
   "metadata": {},
   "outputs": [
    {
     "name": "stdout",
     "output_type": "stream",
     "text": [
      "✨Epoch [1/1000]✨ Train Loss: 13717.2605, Valid Loss: 8301.1433\n",
      "✨Epoch [2/1000]✨ Train Loss: 9528.3588, Valid Loss: 7597.6892\n",
      "✨Epoch [3/1000]✨ Train Loss: 9161.0799, Valid Loss: 7294.5632\n",
      "✨Epoch [4/1000]✨ Train Loss: 8985.3001, Valid Loss: 7117.0937\n",
      "✨Epoch [5/1000]✨ Train Loss: 8880.7049, Valid Loss: 6971.8729\n",
      "✨Epoch [6/1000]✨ Train Loss: 8806.2016, Valid Loss: 6875.3718\n",
      "✨Epoch [7/1000]✨ Train Loss: 8747.3757, Valid Loss: 6802.9579\n",
      "✨Epoch [8/1000]✨ Train Loss: 8689.8046, Valid Loss: 6741.1292\n",
      "✨Epoch [9/1000]✨ Train Loss: 8665.7524, Valid Loss: 6685.2559\n",
      "✨Epoch [10/1000]✨ Train Loss: 8648.4345, Valid Loss: 6663.3957\n",
      "✨Epoch [11/1000]✨ Train Loss: 8617.4442, Valid Loss: 6619.5363\n",
      "✨Epoch [12/1000]✨ Train Loss: 8596.2311, Valid Loss: 6613.3732\n",
      "✨Epoch [13/1000]✨ Train Loss: 8576.5614, Valid Loss: 6607.4966\n",
      "✨Epoch [14/1000]✨ Train Loss: 8556.3506, Valid Loss: 6570.1771\n",
      "✨Epoch [15/1000]✨ Train Loss: 8538.2467, Valid Loss: 6534.1584\n",
      "✨Epoch [16/1000]✨ Train Loss: 8523.4370, Valid Loss: 6558.3122\n",
      "✨Epoch [17/1000]✨ Train Loss: 8519.1169, Valid Loss: 6521.7676\n",
      "✨Epoch [18/1000]✨ Train Loss: 8489.1914, Valid Loss: 6510.5039\n",
      "✨Epoch [19/1000]✨ Train Loss: 8491.1491, Valid Loss: 6519.3211\n",
      "✨Epoch [20/1000]✨ Train Loss: 8484.5175, Valid Loss: 6474.0842\n",
      "✨Epoch [21/1000]✨ Train Loss: 8467.5934, Valid Loss: 6431.7797\n",
      "✨Epoch [22/1000]✨ Train Loss: 8459.2313, Valid Loss: 6477.2074\n",
      "✨Epoch [23/1000]✨ Train Loss: 8455.8599, Valid Loss: 6398.1008\n",
      "✨Epoch [24/1000]✨ Train Loss: 8420.1567, Valid Loss: 6379.3490\n",
      "✨Epoch [25/1000]✨ Train Loss: 8415.2802, Valid Loss: 6378.1957\n",
      "✨Epoch [26/1000]✨ Train Loss: 8415.7659, Valid Loss: 6456.2570\n",
      "✨Epoch [27/1000]✨ Train Loss: 8396.8903, Valid Loss: 6413.3214\n",
      "✨Epoch [28/1000]✨ Train Loss: 8395.0124, Valid Loss: 6398.7210\n",
      "✨Epoch [29/1000]✨ Train Loss: 8371.2394, Valid Loss: 6347.5537\n",
      "✨Epoch [30/1000]✨ Train Loss: 8367.7656, Valid Loss: 6356.6358\n",
      "✨Epoch [31/1000]✨ Train Loss: 8354.9161, Valid Loss: 6376.1512\n",
      "✨Epoch [32/1000]✨ Train Loss: 8341.9345, Valid Loss: 6310.2697\n",
      "✨Epoch [33/1000]✨ Train Loss: 8330.2612, Valid Loss: 6326.4784\n",
      "✨Epoch [34/1000]✨ Train Loss: 8331.7621, Valid Loss: 6274.1653\n",
      "✨Epoch [35/1000]✨ Train Loss: 8321.3055, Valid Loss: 6289.3622\n",
      "✨Epoch [36/1000]✨ Train Loss: 8303.8376, Valid Loss: 6334.1185\n",
      "✨Epoch [37/1000]✨ Train Loss: 8298.1581, Valid Loss: 6304.2053\n",
      "✨Epoch [38/1000]✨ Train Loss: 8282.5255, Valid Loss: 6286.5348\n",
      "✨Epoch [39/1000]✨ Train Loss: 8278.2200, Valid Loss: 6262.6444\n",
      "✨Epoch [40/1000]✨ Train Loss: 8264.4590, Valid Loss: 6264.3733\n",
      "✨Epoch [41/1000]✨ Train Loss: 8261.8277, Valid Loss: 6216.5685\n",
      "✨Epoch [42/1000]✨ Train Loss: 8262.0615, Valid Loss: 6246.3704\n",
      "✨Epoch [43/1000]✨ Train Loss: 8250.6939, Valid Loss: 6195.4297\n",
      "✨Epoch [44/1000]✨ Train Loss: 8249.6487, Valid Loss: 6223.6027\n",
      "✨Epoch [45/1000]✨ Train Loss: 8241.8426, Valid Loss: 6267.4918\n",
      "✨Epoch [46/1000]✨ Train Loss: 8227.1523, Valid Loss: 6236.7326\n",
      "✨Epoch [47/1000]✨ Train Loss: 8215.4865, Valid Loss: 6192.5060\n",
      "✨Epoch [48/1000]✨ Train Loss: 8226.3355, Valid Loss: 6208.7633\n",
      "✨Epoch [49/1000]✨ Train Loss: 8212.0778, Valid Loss: 6182.7356\n",
      "✨Epoch [50/1000]✨ Train Loss: 8199.0858, Valid Loss: 6199.2341\n",
      "✨Epoch [51/1000]✨ Train Loss: 8198.3807, Valid Loss: 6220.3063\n",
      "✨Epoch [52/1000]✨ Train Loss: 8193.9386, Valid Loss: 6186.1641\n",
      "✨Epoch [53/1000]✨ Train Loss: 8189.9083, Valid Loss: 6137.9753\n",
      "✨Epoch [54/1000]✨ Train Loss: 8183.5645, Valid Loss: 6163.8513\n",
      "✨Epoch [55/1000]✨ Train Loss: 8183.6230, Valid Loss: 6191.0763\n",
      "✨Epoch [56/1000]✨ Train Loss: 8176.1528, Valid Loss: 6152.0092\n",
      "✨Epoch [57/1000]✨ Train Loss: 8159.4248, Valid Loss: 6169.6728\n",
      "✨Epoch [58/1000]✨ Train Loss: 8165.9817, Valid Loss: 6149.7630\n",
      "✨Epoch [59/1000]✨ Train Loss: 8158.1223, Valid Loss: 6150.0693\n",
      "✨Epoch [60/1000]✨ Train Loss: 8148.5899, Valid Loss: 6192.9213\n",
      "✨Epoch [61/1000]✨ Train Loss: 8146.9705, Valid Loss: 6124.1827\n",
      "✨Epoch [62/1000]✨ Train Loss: 8146.3823, Valid Loss: 6160.4280\n",
      "✨Epoch [63/1000]✨ Train Loss: 8138.3927, Valid Loss: 6151.8439\n",
      "✨Epoch [64/1000]✨ Train Loss: 8134.3684, Valid Loss: 6170.3331\n",
      "✨Epoch [65/1000]✨ Train Loss: 8113.9691, Valid Loss: 6132.7304\n",
      "✨Epoch [66/1000]✨ Train Loss: 8125.4025, Valid Loss: 6128.3833\n",
      "✨Epoch [67/1000]✨ Train Loss: 8121.1129, Valid Loss: 6111.0098\n",
      "✨Epoch [68/1000]✨ Train Loss: 8121.4154, Valid Loss: 6151.1000\n",
      "✨Epoch [69/1000]✨ Train Loss: 8117.9249, Valid Loss: 6124.9542\n",
      "✨Epoch [70/1000]✨ Train Loss: 8110.3193, Valid Loss: 6124.5754\n",
      "✨Epoch [71/1000]✨ Train Loss: 8107.5676, Valid Loss: 6133.3997\n",
      "✨Epoch [72/1000]✨ Train Loss: 8111.0177, Valid Loss: 6112.0168\n",
      "✨Epoch [73/1000]✨ Train Loss: 8098.3864, Valid Loss: 6141.6365\n",
      "✨Epoch [74/1000]✨ Train Loss: 8101.1246, Valid Loss: 6095.5966\n",
      "✨Epoch [75/1000]✨ Train Loss: 8094.9334, Valid Loss: 6094.4786\n",
      "✨Epoch [76/1000]✨ Train Loss: 8090.6304, Valid Loss: 6081.4314\n",
      "✨Epoch [77/1000]✨ Train Loss: 8090.2066, Valid Loss: 6107.0144\n",
      "✨Epoch [78/1000]✨ Train Loss: 8085.0817, Valid Loss: 6088.8612\n",
      "✨Epoch [79/1000]✨ Train Loss: 8080.2303, Valid Loss: 6056.8466\n",
      "✨Epoch [80/1000]✨ Train Loss: 8070.8449, Valid Loss: 6082.5301\n",
      "✨Epoch [81/1000]✨ Train Loss: 8074.6433, Valid Loss: 6121.4553\n",
      "✨Epoch [82/1000]✨ Train Loss: 8073.6144, Valid Loss: 6110.6796\n",
      "✨Epoch [83/1000]✨ Train Loss: 8069.7881, Valid Loss: 6072.8689\n",
      "✨Epoch [84/1000]✨ Train Loss: 8058.1149, Valid Loss: 6070.3911\n",
      "✨Epoch [85/1000]✨ Train Loss: 8063.5570, Valid Loss: 6087.8441\n",
      "✨Epoch [86/1000]✨ Train Loss: 8069.2513, Valid Loss: 6026.4669\n",
      "✨Epoch [87/1000]✨ Train Loss: 8061.5423, Valid Loss: 6047.8848\n",
      "✨Epoch [88/1000]✨ Train Loss: 8046.7336, Valid Loss: 6065.9607\n",
      "✨Epoch [89/1000]✨ Train Loss: 8053.5010, Valid Loss: 6054.4845\n",
      "✨Epoch [90/1000]✨ Train Loss: 8048.4420, Valid Loss: 6071.5451\n",
      "✨Epoch [91/1000]✨ Train Loss: 8052.3675, Valid Loss: 6019.8805\n",
      "✨Epoch [92/1000]✨ Train Loss: 8053.6706, Valid Loss: 6039.2893\n",
      "✨Epoch [93/1000]✨ Train Loss: 8053.7598, Valid Loss: 6051.7172\n",
      "✨Epoch [94/1000]✨ Train Loss: 8043.1355, Valid Loss: 6073.7881\n",
      "✨Epoch [95/1000]✨ Train Loss: 8037.7335, Valid Loss: 5981.3968\n",
      "✨Epoch [96/1000]✨ Train Loss: 8043.3392, Valid Loss: 5998.2994\n",
      "✨Epoch [97/1000]✨ Train Loss: 8030.5070, Valid Loss: 5990.2246\n",
      "✨Epoch [98/1000]✨ Train Loss: 8037.6440, Valid Loss: 6029.8638\n",
      "✨Epoch [99/1000]✨ Train Loss: 8035.8031, Valid Loss: 5972.9812\n",
      "✨Epoch [100/1000]✨ Train Loss: 8030.1159, Valid Loss: 6035.5963\n",
      "✨Epoch [101/1000]✨ Train Loss: 8022.3376, Valid Loss: 5983.7358\n",
      "✨Epoch [102/1000]✨ Train Loss: 8017.4464, Valid Loss: 6032.0597\n",
      "✨Epoch [103/1000]✨ Train Loss: 8027.8469, Valid Loss: 6025.8559\n",
      "✨Epoch [104/1000]✨ Train Loss: 8024.4904, Valid Loss: 6005.4202\n",
      "✨Epoch [105/1000]✨ Train Loss: 8018.5210, Valid Loss: 6032.1521\n",
      "✨Epoch [106/1000]✨ Train Loss: 8011.9175, Valid Loss: 6063.0595\n",
      "✨Epoch [107/1000]✨ Train Loss: 8012.3629, Valid Loss: 5985.1356\n",
      "✨Epoch [108/1000]✨ Train Loss: 8017.0191, Valid Loss: 6036.7045\n",
      "✨Epoch [109/1000]✨ Train Loss: 8010.7322, Valid Loss: 6014.0828\n",
      "✨Epoch [110/1000]✨ Train Loss: 8008.1087, Valid Loss: 6002.7377\n",
      "✨Epoch [111/1000]✨ Train Loss: 8006.9101, Valid Loss: 5966.5023\n",
      "✨Epoch [112/1000]✨ Train Loss: 7999.9929, Valid Loss: 6004.6669\n",
      "✨Epoch [113/1000]✨ Train Loss: 8006.0749, Valid Loss: 6017.3322\n",
      "✨Epoch [114/1000]✨ Train Loss: 8007.8394, Valid Loss: 5982.5339\n",
      "✨Epoch [115/1000]✨ Train Loss: 8009.9138, Valid Loss: 5957.4662\n",
      "✨Epoch [116/1000]✨ Train Loss: 7997.3628, Valid Loss: 6006.0404\n",
      "✨Epoch [117/1000]✨ Train Loss: 8004.8420, Valid Loss: 5968.3900\n",
      "✨Epoch [118/1000]✨ Train Loss: 7995.3953, Valid Loss: 5943.4607\n",
      "✨Epoch [119/1000]✨ Train Loss: 8000.4577, Valid Loss: 5960.6426\n",
      "✨Epoch [120/1000]✨ Train Loss: 7989.5535, Valid Loss: 6017.3208\n",
      "✨Epoch [121/1000]✨ Train Loss: 7990.6953, Valid Loss: 5982.1830\n",
      "✨Epoch [122/1000]✨ Train Loss: 7992.4940, Valid Loss: 5979.5490\n",
      "✨Epoch [123/1000]✨ Train Loss: 7994.6650, Valid Loss: 5939.8520\n",
      "✨Epoch [124/1000]✨ Train Loss: 7988.3407, Valid Loss: 5999.3424\n",
      "✨Epoch [125/1000]✨ Train Loss: 7990.1363, Valid Loss: 5965.3476\n",
      "✨Epoch [126/1000]✨ Train Loss: 7984.1217, Valid Loss: 5976.3265\n",
      "✨Epoch [127/1000]✨ Train Loss: 7989.9095, Valid Loss: 5955.1836\n",
      "✨Epoch [128/1000]✨ Train Loss: 7984.5347, Valid Loss: 6006.9776\n",
      "✨Epoch [129/1000]✨ Train Loss: 7984.6257, Valid Loss: 5944.3969\n",
      "✨Epoch [130/1000]✨ Train Loss: 7980.0850, Valid Loss: 5987.8044\n",
      "✨Epoch [131/1000]✨ Train Loss: 7988.8939, Valid Loss: 5973.2328\n",
      "✨Epoch [132/1000]✨ Train Loss: 7981.4869, Valid Loss: 5931.9141\n",
      "✨Epoch [133/1000]✨ Train Loss: 7972.4391, Valid Loss: 5936.2730\n",
      "✨Epoch [134/1000]✨ Train Loss: 7975.2636, Valid Loss: 5929.6803\n",
      "✨Epoch [135/1000]✨ Train Loss: 7977.0985, Valid Loss: 5977.9041\n",
      "✨Epoch [136/1000]✨ Train Loss: 7979.0597, Valid Loss: 5961.7780\n",
      "✨Epoch [137/1000]✨ Train Loss: 7971.7804, Valid Loss: 5961.5459\n",
      "✨Epoch [138/1000]✨ Train Loss: 7970.2617, Valid Loss: 5984.0381\n",
      "✨Epoch [139/1000]✨ Train Loss: 7959.5336, Valid Loss: 5940.1111\n",
      "✨Epoch [140/1000]✨ Train Loss: 7959.0394, Valid Loss: 5944.9188\n",
      "✨Epoch [141/1000]✨ Train Loss: 7964.6717, Valid Loss: 5951.2337\n",
      "✨Epoch [142/1000]✨ Train Loss: 7966.1381, Valid Loss: 5948.8932\n",
      "✨Epoch [143/1000]✨ Train Loss: 7960.5735, Valid Loss: 5939.2665\n",
      "✨Epoch [144/1000]✨ Train Loss: 7955.0818, Valid Loss: 5992.6374\n",
      "✨Epoch [145/1000]✨ Train Loss: 7950.5444, Valid Loss: 5957.2879\n",
      "✨Epoch [146/1000]✨ Train Loss: 7960.1691, Valid Loss: 5934.4819\n",
      "✨Epoch [147/1000]✨ Train Loss: 7962.4895, Valid Loss: 5962.6339\n",
      "✨Epoch [148/1000]✨ Train Loss: 7956.9785, Valid Loss: 5966.9724\n",
      "✨Epoch [149/1000]✨ Train Loss: 7953.4633, Valid Loss: 5946.9270\n",
      "✨Epoch [150/1000]✨ Train Loss: 7946.2659, Valid Loss: 5974.5569\n",
      "✨Epoch [151/1000]✨ Train Loss: 7943.1133, Valid Loss: 6001.2566\n",
      "✨Epoch [152/1000]✨ Train Loss: 7950.0058, Valid Loss: 5895.7040\n"
     ]
    },
    {
     "ename": "KeyboardInterrupt",
     "evalue": "",
     "output_type": "error",
     "traceback": [
      "\u001b[0;31m---------------------------------------------------------------------------\u001b[0m",
      "\u001b[0;31mKeyboardInterrupt\u001b[0m                         Traceback (most recent call last)",
      "Cell \u001b[0;32mIn[10], line 29\u001b[0m\n\u001b[1;32m     27\u001b[0m \u001b[38;5;28;01mfor\u001b[39;00m inputs, targets \u001b[38;5;129;01min\u001b[39;00m train_loader: \u001b[38;5;66;03m# tqdm(train_loader, desc=f\"✨Epoch {epoch+1}✨:\", leave=False):\u001b[39;00m\n\u001b[1;32m     28\u001b[0m     optimizer\u001b[38;5;241m.\u001b[39mzero_grad()\n\u001b[0;32m---> 29\u001b[0m     outputs \u001b[38;5;241m=\u001b[39m \u001b[43mmodel\u001b[49m\u001b[43m(\u001b[49m\u001b[43minputs\u001b[49m\u001b[43m)\u001b[49m\u001b[38;5;241m.\u001b[39msqueeze()\n\u001b[1;32m     30\u001b[0m     loss \u001b[38;5;241m=\u001b[39m criterion(outputs, targets)\n\u001b[1;32m     31\u001b[0m     loss\u001b[38;5;241m.\u001b[39mbackward()\n",
      "File \u001b[0;32m/opt/conda/lib/python3.10/site-packages/torch/nn/modules/module.py:1518\u001b[0m, in \u001b[0;36mModule._wrapped_call_impl\u001b[0;34m(self, *args, **kwargs)\u001b[0m\n\u001b[1;32m   1516\u001b[0m     \u001b[38;5;28;01mreturn\u001b[39;00m \u001b[38;5;28mself\u001b[39m\u001b[38;5;241m.\u001b[39m_compiled_call_impl(\u001b[38;5;241m*\u001b[39margs, \u001b[38;5;241m*\u001b[39m\u001b[38;5;241m*\u001b[39mkwargs)  \u001b[38;5;66;03m# type: ignore[misc]\u001b[39;00m\n\u001b[1;32m   1517\u001b[0m \u001b[38;5;28;01melse\u001b[39;00m:\n\u001b[0;32m-> 1518\u001b[0m     \u001b[38;5;28;01mreturn\u001b[39;00m \u001b[38;5;28;43mself\u001b[39;49m\u001b[38;5;241;43m.\u001b[39;49m\u001b[43m_call_impl\u001b[49m\u001b[43m(\u001b[49m\u001b[38;5;241;43m*\u001b[39;49m\u001b[43margs\u001b[49m\u001b[43m,\u001b[49m\u001b[43m \u001b[49m\u001b[38;5;241;43m*\u001b[39;49m\u001b[38;5;241;43m*\u001b[39;49m\u001b[43mkwargs\u001b[49m\u001b[43m)\u001b[49m\n",
      "File \u001b[0;32m/opt/conda/lib/python3.10/site-packages/torch/nn/modules/module.py:1527\u001b[0m, in \u001b[0;36mModule._call_impl\u001b[0;34m(self, *args, **kwargs)\u001b[0m\n\u001b[1;32m   1522\u001b[0m \u001b[38;5;66;03m# If we don't have any hooks, we want to skip the rest of the logic in\u001b[39;00m\n\u001b[1;32m   1523\u001b[0m \u001b[38;5;66;03m# this function, and just call forward.\u001b[39;00m\n\u001b[1;32m   1524\u001b[0m \u001b[38;5;28;01mif\u001b[39;00m \u001b[38;5;129;01mnot\u001b[39;00m (\u001b[38;5;28mself\u001b[39m\u001b[38;5;241m.\u001b[39m_backward_hooks \u001b[38;5;129;01mor\u001b[39;00m \u001b[38;5;28mself\u001b[39m\u001b[38;5;241m.\u001b[39m_backward_pre_hooks \u001b[38;5;129;01mor\u001b[39;00m \u001b[38;5;28mself\u001b[39m\u001b[38;5;241m.\u001b[39m_forward_hooks \u001b[38;5;129;01mor\u001b[39;00m \u001b[38;5;28mself\u001b[39m\u001b[38;5;241m.\u001b[39m_forward_pre_hooks\n\u001b[1;32m   1525\u001b[0m         \u001b[38;5;129;01mor\u001b[39;00m _global_backward_pre_hooks \u001b[38;5;129;01mor\u001b[39;00m _global_backward_hooks\n\u001b[1;32m   1526\u001b[0m         \u001b[38;5;129;01mor\u001b[39;00m _global_forward_hooks \u001b[38;5;129;01mor\u001b[39;00m _global_forward_pre_hooks):\n\u001b[0;32m-> 1527\u001b[0m     \u001b[38;5;28;01mreturn\u001b[39;00m \u001b[43mforward_call\u001b[49m\u001b[43m(\u001b[49m\u001b[38;5;241;43m*\u001b[39;49m\u001b[43margs\u001b[49m\u001b[43m,\u001b[49m\u001b[43m \u001b[49m\u001b[38;5;241;43m*\u001b[39;49m\u001b[38;5;241;43m*\u001b[39;49m\u001b[43mkwargs\u001b[49m\u001b[43m)\u001b[49m\n\u001b[1;32m   1529\u001b[0m \u001b[38;5;28;01mtry\u001b[39;00m:\n\u001b[1;32m   1530\u001b[0m     result \u001b[38;5;241m=\u001b[39m \u001b[38;5;28;01mNone\u001b[39;00m\n",
      "Cell \u001b[0;32mIn[9], line 19\u001b[0m, in \u001b[0;36mSimpleModel.forward\u001b[0;34m(self, x)\u001b[0m\n\u001b[1;32m     17\u001b[0m x \u001b[38;5;241m=\u001b[39m \u001b[38;5;28mself\u001b[39m\u001b[38;5;241m.\u001b[39mrelu(\u001b[38;5;28mself\u001b[39m\u001b[38;5;241m.\u001b[39mfc2(x))\n\u001b[1;32m     18\u001b[0m x \u001b[38;5;241m=\u001b[39m \u001b[38;5;28mself\u001b[39m\u001b[38;5;241m.\u001b[39mdropout(x)\n\u001b[0;32m---> 19\u001b[0m out \u001b[38;5;241m=\u001b[39m \u001b[38;5;28;43mself\u001b[39;49m\u001b[38;5;241;43m.\u001b[39;49m\u001b[43msoftplus\u001b[49m\u001b[43m(\u001b[49m\u001b[38;5;28;43mself\u001b[39;49m\u001b[38;5;241;43m.\u001b[39;49m\u001b[43mfc3\u001b[49m\u001b[43m(\u001b[49m\u001b[43mx\u001b[49m\u001b[43m)\u001b[49m\u001b[43m)\u001b[49m\n\u001b[1;32m     20\u001b[0m \u001b[38;5;28;01mreturn\u001b[39;00m out\n",
      "File \u001b[0;32m/opt/conda/lib/python3.10/site-packages/torch/nn/modules/module.py:1518\u001b[0m, in \u001b[0;36mModule._wrapped_call_impl\u001b[0;34m(self, *args, **kwargs)\u001b[0m\n\u001b[1;32m   1516\u001b[0m     \u001b[38;5;28;01mreturn\u001b[39;00m \u001b[38;5;28mself\u001b[39m\u001b[38;5;241m.\u001b[39m_compiled_call_impl(\u001b[38;5;241m*\u001b[39margs, \u001b[38;5;241m*\u001b[39m\u001b[38;5;241m*\u001b[39mkwargs)  \u001b[38;5;66;03m# type: ignore[misc]\u001b[39;00m\n\u001b[1;32m   1517\u001b[0m \u001b[38;5;28;01melse\u001b[39;00m:\n\u001b[0;32m-> 1518\u001b[0m     \u001b[38;5;28;01mreturn\u001b[39;00m \u001b[38;5;28;43mself\u001b[39;49m\u001b[38;5;241;43m.\u001b[39;49m\u001b[43m_call_impl\u001b[49m\u001b[43m(\u001b[49m\u001b[38;5;241;43m*\u001b[39;49m\u001b[43margs\u001b[49m\u001b[43m,\u001b[49m\u001b[43m \u001b[49m\u001b[38;5;241;43m*\u001b[39;49m\u001b[38;5;241;43m*\u001b[39;49m\u001b[43mkwargs\u001b[49m\u001b[43m)\u001b[49m\n",
      "File \u001b[0;32m/opt/conda/lib/python3.10/site-packages/torch/nn/modules/module.py:1527\u001b[0m, in \u001b[0;36mModule._call_impl\u001b[0;34m(self, *args, **kwargs)\u001b[0m\n\u001b[1;32m   1522\u001b[0m \u001b[38;5;66;03m# If we don't have any hooks, we want to skip the rest of the logic in\u001b[39;00m\n\u001b[1;32m   1523\u001b[0m \u001b[38;5;66;03m# this function, and just call forward.\u001b[39;00m\n\u001b[1;32m   1524\u001b[0m \u001b[38;5;28;01mif\u001b[39;00m \u001b[38;5;129;01mnot\u001b[39;00m (\u001b[38;5;28mself\u001b[39m\u001b[38;5;241m.\u001b[39m_backward_hooks \u001b[38;5;129;01mor\u001b[39;00m \u001b[38;5;28mself\u001b[39m\u001b[38;5;241m.\u001b[39m_backward_pre_hooks \u001b[38;5;129;01mor\u001b[39;00m \u001b[38;5;28mself\u001b[39m\u001b[38;5;241m.\u001b[39m_forward_hooks \u001b[38;5;129;01mor\u001b[39;00m \u001b[38;5;28mself\u001b[39m\u001b[38;5;241m.\u001b[39m_forward_pre_hooks\n\u001b[1;32m   1525\u001b[0m         \u001b[38;5;129;01mor\u001b[39;00m _global_backward_pre_hooks \u001b[38;5;129;01mor\u001b[39;00m _global_backward_hooks\n\u001b[1;32m   1526\u001b[0m         \u001b[38;5;129;01mor\u001b[39;00m _global_forward_hooks \u001b[38;5;129;01mor\u001b[39;00m _global_forward_pre_hooks):\n\u001b[0;32m-> 1527\u001b[0m     \u001b[38;5;28;01mreturn\u001b[39;00m \u001b[43mforward_call\u001b[49m\u001b[43m(\u001b[49m\u001b[38;5;241;43m*\u001b[39;49m\u001b[43margs\u001b[49m\u001b[43m,\u001b[49m\u001b[43m \u001b[49m\u001b[38;5;241;43m*\u001b[39;49m\u001b[38;5;241;43m*\u001b[39;49m\u001b[43mkwargs\u001b[49m\u001b[43m)\u001b[49m\n\u001b[1;32m   1529\u001b[0m \u001b[38;5;28;01mtry\u001b[39;00m:\n\u001b[1;32m   1530\u001b[0m     result \u001b[38;5;241m=\u001b[39m \u001b[38;5;28;01mNone\u001b[39;00m\n",
      "File \u001b[0;32m/opt/conda/lib/python3.10/site-packages/torch/nn/modules/activation.py:840\u001b[0m, in \u001b[0;36mSoftplus.forward\u001b[0;34m(self, input)\u001b[0m\n\u001b[1;32m    839\u001b[0m \u001b[38;5;28;01mdef\u001b[39;00m \u001b[38;5;21mforward\u001b[39m(\u001b[38;5;28mself\u001b[39m, \u001b[38;5;28minput\u001b[39m: Tensor) \u001b[38;5;241m-\u001b[39m\u001b[38;5;241m>\u001b[39m Tensor:\n\u001b[0;32m--> 840\u001b[0m     \u001b[38;5;28;01mreturn\u001b[39;00m \u001b[43mF\u001b[49m\u001b[38;5;241;43m.\u001b[39;49m\u001b[43msoftplus\u001b[49m\u001b[43m(\u001b[49m\u001b[38;5;28;43minput\u001b[39;49m\u001b[43m,\u001b[49m\u001b[43m \u001b[49m\u001b[38;5;28;43mself\u001b[39;49m\u001b[38;5;241;43m.\u001b[39;49m\u001b[43mbeta\u001b[49m\u001b[43m,\u001b[49m\u001b[43m \u001b[49m\u001b[38;5;28;43mself\u001b[39;49m\u001b[38;5;241;43m.\u001b[39;49m\u001b[43mthreshold\u001b[49m\u001b[43m)\u001b[49m\n",
      "\u001b[0;31mKeyboardInterrupt\u001b[0m: "
     ]
    }
   ],
   "source": [
    "### 모델 학습\n",
    "\n",
    "# 모델 객체 생성\n",
    "model = SimpleModel()\n",
    "model.to(device)\n",
    "\n",
    "# 가중치 초기화\n",
    "for layer in model.children():\n",
    "    if isinstance(layer, nn.Linear):\n",
    "        torch.nn.init.xavier_uniform_(layer.weight)\n",
    "\n",
    "# 손실 함수와 옵티마이저 정의\n",
    "criterion = nn.L1Loss()  # Mean Absolute Error Loss\n",
    "optimizer = optim.Adam(model.parameters(), lr=0.001)  # Adam 옵티마이저\n",
    "scheduler = torch.optim.lr_scheduler.ReduceLROnPlateau(optimizer, mode='min', factor=0.1, patience=10)\n",
    "\n",
    "# 조기 종료를 위한 파라미터 설정\n",
    "patience = 20\n",
    "best_val_loss = float('inf')\n",
    "epochs_no_improve = 0\n",
    "\n",
    "# 학습 과정\n",
    "num_epochs = 1000\n",
    "loss_df = []\n",
    "for epoch in range(num_epochs): # tqdm(range(num_epochs), desc=\"💃Total Epoch🕺\"):\n",
    "    model.train()\n",
    "    epoch_loss = 0\n",
    "    for inputs, targets in train_loader: # tqdm(train_loader, desc=f\"✨Epoch {epoch+1}✨:\", leave=False):\n",
    "        optimizer.zero_grad()\n",
    "        outputs = model(inputs).squeeze()\n",
    "        loss = criterion(outputs, targets)\n",
    "        loss.backward()\n",
    "        optimizer.step()\n",
    "        epoch_loss += loss.item()\n",
    "\n",
    "    average_loss = epoch_loss / len(train_loader)\n",
    "    scheduler.step(average_loss)\n",
    "    print(f'✨Epoch [{epoch+1}/{num_epochs}]✨ Train Loss: {average_loss:.4f}', end=', ')\n",
    "\n",
    "    # 검증 과정\n",
    "    model.eval()\n",
    "    val_epoch_loss = 0\n",
    "    with torch.no_grad():\n",
    "        for inputs, targets in val_loader:\n",
    "            outputs = model(inputs).squeeze()\n",
    "            val_loss = criterion(outputs, targets)\n",
    "            val_epoch_loss += val_loss.item()\n",
    "\n",
    "    average_val_loss = val_epoch_loss / len(val_loader)\n",
    "\n",
    "    # # NaN 예외 처리\n",
    "    # if math.isnan(average_val_loss):\n",
    "    #     print('Validation Loss is NaN. Skipping this epoch.')\n",
    "    #     continue\n",
    "    \n",
    "    print(f'Valid Loss: {average_val_loss:.4f}')\n",
    "\n",
    "    # 조기 종료 조건 체크\n",
    "    if average_val_loss < best_val_loss:\n",
    "        best_val_loss = average_val_loss\n",
    "        epochs_no_improve = 0  # 성능이 개선된 경우, 카운터를 리셋\n",
    "    else:\n",
    "        epochs_no_improve += 1  # 성능이 개선되지 않으면 카운터 증가\n",
    "\n",
    "    # 설정한 patience를 초과하면 학습 중단\n",
    "    if epochs_no_improve >= patience:\n",
    "        print(f\"Early stopping triggered after {epoch+1} epochs. Best validation loss: {best_val_loss:.4f}\")\n",
    "        break\n",
    "\n",
    "    # 손실 기록\n",
    "    loss_df.append(average_val_loss)"
   ]
  },
  {
   "cell_type": "code",
   "execution_count": 22,
   "metadata": {},
   "outputs": [
    {
     "data": {
      "image/png": "[encoded data removed]",
      "text/plain": [
       "<Figure size 640x480 with 1 Axes>"
      ]
     },
     "metadata": {},
     "output_type": "display_data"
    }
   ],
   "source": [
    "# 에포크 별 손실 시각화 (.py의 경우 생략)\n",
    "sns.lineplot(loss_df, color=\"tomato\")\n",
    "\n",
    "plt.grid()\n",
    "plt.title(\"MAE Loss\")\n",
    "plt.xlabel(\"Epoch\")\n",
    "plt.ylabel(\"Loss\")\n",
    "ax = plt.gca()\n",
    "ax.yaxis.set_major_formatter(ScalarFormatter(useMathText=True))\n",
    "ax.ticklabel_format(style='sci', axis='y', scilimits=(0, 0))\n",
    "plt.show()"
   ]
  },
  {
   "cell_type": "code",
   "execution_count": 12,
   "metadata": {},
   "outputs": [
    {
     "name": "stdout",
     "output_type": "stream",
     "text": [
      "tensor([23780.9336, 12138.3945,  7966.1367,  ..., 56780.2461, 49703.6250,\n",
      "        49818.6328], device='cuda:0')\n"
     ]
    }
   ],
   "source": [
    "### 예측 수행 및 배치 단위로 MAE 계산\n",
    "model.eval()\n",
    "with torch.no_grad():\n",
    "    y_pred = model(X_test).squeeze()\n",
    "print(y_pred)"
   ]
  },
  {
   "cell_type": "code",
   "execution_count": 24,
   "metadata": {},
   "outputs": [
    {
     "data": {
      "text/plain": [
       "<Axes: ylabel='Count'>"
      ]
     },
     "execution_count": 24,
     "metadata": {},
     "output_type": "execute_result"
    },
    {
     "data": {
      "image/png": "[encoded data removed]",
      "text/plain": [
       "<Figure size 640x480 with 1 Axes>"
      ]
     },
     "metadata": {},
     "output_type": "display_data"
    }
   ],
   "source": [
    "### 예측값 시각화 (.py의 경우 생략)\n",
    "\n",
    "y_pred = y_pred.cpu()\n",
    "y_pred = pd.Series(y_pred)\n",
    "sns.histplot(y_pred)"
   ]
  },
  {
   "cell_type": "code",
   "execution_count": 15,
   "metadata": {},
   "outputs": [],
   "source": [
    "# 제출 파일 생성\n",
    "sample_submission[\"deposit\"] = y_pred\n",
    "sample_submission.to_csv(\"output.csv\", index=False)"
   ]
  },
  {
   "cell_type": "code",
   "execution_count": 14,
   "metadata": {},
   "outputs": [
    {
     "data": {
      "text/plain": [
       "count    150172.000000\n",
       "mean      39962.871094\n",
       "std       22668.414062\n",
       "min        1665.759766\n",
       "25%       24972.675781\n",
       "50%       35711.996094\n",
       "75%       49253.503906\n",
       "max      629646.937500\n",
       "dtype: float64"
      ]
     },
     "execution_count": 14,
     "metadata": {},
     "output_type": "execute_result"
    }
   ],
   "source": [
    "# 통계량 확인\n",
    "y_pred.describe()"
   ]
  },
  {
   "cell_type": "code",
   "execution_count": 16,
   "metadata": {},
   "outputs": [],
   "source": [
    "# 현재 모델 가중치를 저장\n",
    "torch.save(model.state_dict(), 'model_checkpoint.pth') # epoch 152에서 중단\n",
    "\n",
    "# # 모델 인스턴스 생성 후 가중치 로드\n",
    "# model.load_state_dict(torch.load('model_checkpoint.pth'))"
   ]
  }
 ],
 "metadata": {
  "kernelspec": {
   "display_name": "base",
   "language": "python",
   "name": "python3"
  },
  "language_info": {
   "codemirror_mode": {
    "name": "ipython",
    "version": 3
   },
   "file_extension": ".py",
   "mimetype": "text/x-python",
   "name": "python",
   "nbconvert_exporter": "python",
   "pygments_lexer": "ipython3",
   "version": "3.10.13"
  }
 },
 "nbformat": 4,
 "nbformat_minor": 2
}
