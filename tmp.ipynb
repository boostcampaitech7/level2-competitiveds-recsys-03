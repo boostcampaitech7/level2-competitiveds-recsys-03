{
 "cells": [
  {
   "cell_type": "code",
   "execution_count": 1,
   "metadata": {},
   "outputs": [
    {
     "name": "stderr",
     "output_type": "stream",
     "text": [
      "/opt/conda/lib/python3.10/site-packages/tqdm/auto.py:21: TqdmWarning: IProgress not found. Please update jupyter and ipywidgets. See https://ipywidgets.readthedocs.io/en/stable/user_install.html\n",
      "  from .autonotebook import tqdm as notebook_tqdm\n"
     ]
    }
   ],
   "source": [
    "import os\n",
    "import pandas as pd\n",
    "import numpy as np\n",
    "import matplotlib.pyplot as plt\n",
    "import seaborn as sns\n",
    "import geopandas as gpd\n",
    "from sklearn.neighbors import BallTree\n",
    "from xgboost import XGBRegressor\n",
    "from sklearn.model_selection import KFold, cross_val_score\n",
    "from sklearn.metrics import mean_absolute_error\n",
    "from typing import Type\n",
    "import optuna"
   ]
  },
  {
   "cell_type": "code",
   "execution_count": 2,
   "metadata": {},
   "outputs": [],
   "source": [
    "# train, test 데이터 불러오기\n",
    "data_path: str = \"~/house/data\"\n",
    "train_data: pd.DataFrame = pd.read_csv(os.path.join(data_path, \"train.csv\"))\n",
    "test_data: pd.DataFrame = pd.read_csv(os.path.join(data_path, \"test.csv\"))\n",
    "sample_submission: pd.DataFrame = pd.read_csv(os.path.join(data_path, \"sample_submission.csv\"))"
   ]
  },
  {
   "cell_type": "code",
   "execution_count": 3,
   "metadata": {},
   "outputs": [],
   "source": [
    "# 금리, 지하철, 학교, 공원 정보 불러오기\n",
    "interest_data: pd.DataFrame = pd.read_csv(os.path.join(data_path, \"interestRate.csv\"))\n",
    "subway_data: pd.DataFrame = pd.read_csv(os.path.join(data_path, \"subwayInfo.csv\"))\n",
    "school_data: pd.DataFrame = pd.read_csv(os.path.join(data_path, \"schoolinfo.csv\"))\n",
    "park_data: pd.DataFrame = pd.read_csv(os.path.join(data_path, \"parkInfo.csv\"))"
   ]
  },
  {
   "cell_type": "code",
   "execution_count": 4,
   "metadata": {},
   "outputs": [
    {
     "data": {
      "text/plain": [
       "0         856.0\n",
       "1         847.0\n",
       "2        1276.0\n",
       "3        3300.0\n",
       "4         394.0\n",
       "          ...  \n",
       "17559    2642.0\n",
       "17560    2654.0\n",
       "17561    3315.0\n",
       "17562    2237.0\n",
       "17563    1644.0\n",
       "Name: area, Length: 17564, dtype: float64"
      ]
     },
     "execution_count": 4,
     "metadata": {},
     "output_type": "execute_result"
    }
   ],
   "source": [
    "park_data[\"area\"]"
   ]
  },
  {
   "cell_type": "code",
   "execution_count": 6,
   "metadata": {},
   "outputs": [
    {
     "data": {
      "text/plain": [
       "26        32249.0\n",
       "42        51211.0\n",
       "53       493215.0\n",
       "55        48150.0\n",
       "62       102106.0\n",
       "           ...   \n",
       "17496    177526.4\n",
       "17498     79299.0\n",
       "17506    104914.1\n",
       "17535    241437.0\n",
       "17537    129094.0\n",
       "Name: area, Length: 2647, dtype: float64"
      ]
     },
     "execution_count": 6,
     "metadata": {},
     "output_type": "execute_result"
    }
   ],
   "source": [
    "from data.data_preprocessing import outlier_detection\n",
    "\n",
    "park_outlier = outlier_detection(park_data[\"area\"])\n",
    "park_outlier\n",
    "# park_data.drop(park_outlier, axis=0, inplace=True)\n",
    "# sns.histplot(park_data[\"area\"], kde=True)"
   ]
  },
  {
   "cell_type": "code",
   "execution_count": null,
   "metadata": {},
   "outputs": [],
   "source": []
  }
 ],
 "metadata": {
  "kernelspec": {
   "display_name": "base",
   "language": "python",
   "name": "python3"
  },
  "language_info": {
   "codemirror_mode": {
    "name": "ipython",
    "version": 3
   },
   "file_extension": ".py",
   "mimetype": "text/x-python",
   "name": "python",
   "nbconvert_exporter": "python",
   "pygments_lexer": "ipython3",
   "version": "3.10.13"
  }
 },
 "nbformat": 4,
 "nbformat_minor": 2
}
