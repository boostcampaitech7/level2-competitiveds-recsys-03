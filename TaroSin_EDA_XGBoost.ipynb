{
 "cells": [
  {
   "cell_type": "markdown",
   "metadata": {},
   "source": [
    "# 라이브러리 불러오기"
   ]
  },
  {
   "cell_type": "code",
   "execution_count": 1,
   "metadata": {},
   "outputs": [],
   "source": [
    "import pandas as pd\n",
    "import numpy as np\n",
    "import matplotlib.pyplot as plt\n",
    "import seaborn as sns\n",
    "import geopandas as gpd\n",
    "from shapely.geometry import Point\n",
    "import cartopy.crs as ccrs\n",
    "import cartopy.feature as cfeature\n",
    "from geopy.distance import geodesic\n",
    "import matplotlib as mpl\n",
    "import tqdm\n",
    "from scipy.spatial.distance import cdist\n",
    "from scipy.spatial import cKDTree\n",
    "from sklearn.cluster import KMeans\n",
    "from statsmodels.tsa.seasonal import seasonal_decompose\n",
    "import warnings\n",
    "warnings.filterwarnings(\"ignore\")"
   ]
  },
  {
   "cell_type": "markdown",
   "metadata": {},
   "source": [
    "# 데이터 불러오기"
   ]
  },
  {
   "cell_type": "code",
   "execution_count": 2,
   "metadata": {},
   "outputs": [],
   "source": [
    "train_data = pd.read_csv(\"/data/ephemeral/home/house/data/train.csv\")\n",
    "test_data = pd.read_csv(\"/data/ephemeral/home/house/data/test.csv\")\n",
    "sample_submission = pd.read_csv(\"/data/ephemeral/home/house/data/sample_submission.csv\")\n",
    "interest_data = pd.read_csv(\"/data/ephemeral/home/house/data/interestRate.csv\")\n",
    "park_data = pd.read_csv(\"/data/ephemeral/home/house/data/parkInfo.csv\")\n",
    "school_data = pd.read_csv(\"/data/ephemeral/home/house/data/schoolinfo.csv\")\n",
    "subway_data = pd.read_csv(\"/data/ephemeral/home/house/data/subwayInfo.csv\")"
   ]
  },
  {
   "cell_type": "code",
   "execution_count": null,
   "metadata": {},
   "outputs": [],
   "source": [
    "train_data.head()"
   ]
  },
  {
   "cell_type": "code",
   "execution_count": null,
   "metadata": {},
   "outputs": [],
   "source": [
    "test_data.head()"
   ]
  },
  {
   "cell_type": "code",
   "execution_count": null,
   "metadata": {},
   "outputs": [],
   "source": [
    "sample_submission.head()"
   ]
  },
  {
   "cell_type": "code",
   "execution_count": null,
   "metadata": {},
   "outputs": [],
   "source": [
    "interest_data.head()"
   ]
  },
  {
   "cell_type": "code",
   "execution_count": null,
   "metadata": {},
   "outputs": [],
   "source": [
    "park_data.head()"
   ]
  },
  {
   "cell_type": "code",
   "execution_count": null,
   "metadata": {},
   "outputs": [],
   "source": [
    "school_data.head()"
   ]
  },
  {
   "cell_type": "code",
   "execution_count": null,
   "metadata": {},
   "outputs": [],
   "source": [
    "subway_data.head()"
   ]
  },
  {
   "cell_type": "code",
   "execution_count": null,
   "metadata": {},
   "outputs": [],
   "source": [
    "train_data.dtypes"
   ]
  },
  {
   "cell_type": "markdown",
   "metadata": {},
   "source": [
    "# 결측치 확인"
   ]
  },
  {
   "cell_type": "code",
   "execution_count": null,
   "metadata": {},
   "outputs": [],
   "source": [
    "print(\"Train 데이터 결측치 확인:\\n\", train_data.isnull().sum())\n",
    "print(\"Test 데이터 결측치 확인:\\n\", test_data.isnull().sum())\n",
    "print(\"Subway 데이터 결측치 확인:\\n\", subway_data.isnull().sum())\n",
    "print(\"Interest Rate 데이터 결측치 확인:\\n\", interest_data.isnull().sum())\n",
    "print(\"School 데이터 결측치 확인:\\n\", school_data.isnull().sum())\n",
    "print(\"Park 데이터 결측치 확인:\\n\", park_data.isnull().sum())"
   ]
  },
  {
   "cell_type": "markdown",
   "metadata": {},
   "source": [
    "# 데이터 병합"
   ]
  },
  {
   "cell_type": "markdown",
   "metadata": {},
   "source": [
    "### interestRate.csv와 병합"
   ]
  },
  {
   "cell_type": "code",
   "execution_count": 12,
   "metadata": {},
   "outputs": [],
   "source": [
    "# train_data와 interest_data 병합\n",
    "train_data['contract_year_month'] = train_data['contract_year_month'].astype(str)\n",
    "interest_data['year_month'] = interest_data['year_month'].astype(str)\n",
    "\n",
    "# left join을 통해 금리 데이터를 병합\n",
    "train_data = pd.merge(train_data, interest_data, how='left', left_on='contract_year_month', right_on='year_month')\n",
    "\n",
    "# 중복된 열 제거\n",
    "train_data.drop(columns=['year_month'], inplace=True)"
   ]
  },
  {
   "cell_type": "code",
   "execution_count": null,
   "metadata": {},
   "outputs": [],
   "source": [
    "train_data"
   ]
  },
  {
   "cell_type": "markdown",
   "metadata": {},
   "source": [
    "### subwayinfo.csv와 병합"
   ]
  },
  {
   "cell_type": "code",
   "execution_count": 14,
   "metadata": {},
   "outputs": [],
   "source": [
    "def find_closest_distance_kdtree(train_data, loc_df):\n",
    "    train_coords = train_data[['latitude', 'longitude']].values\n",
    "    park_coords = loc_df[['latitude', 'longitude']].values\n",
    "    tree = cKDTree(park_coords)\n",
    "    distances, _ = tree.query(train_coords)\n",
    "    return distances"
   ]
  },
  {
   "cell_type": "code",
   "execution_count": 15,
   "metadata": {},
   "outputs": [],
   "source": [
    "train_data['closest_subway_distance'] = find_closest_distance_kdtree(train_data, subway_data)"
   ]
  },
  {
   "cell_type": "code",
   "execution_count": null,
   "metadata": {},
   "outputs": [],
   "source": [
    "train_data['closest_subway_distance']"
   ]
  },
  {
   "cell_type": "markdown",
   "metadata": {},
   "source": [
    "### schoolinfo.csv와 병합"
   ]
  },
  {
   "cell_type": "code",
   "execution_count": 17,
   "metadata": {},
   "outputs": [],
   "source": [
    "train_data['closest_school_distance'] = find_closest_distance_kdtree(train_data, school_data)"
   ]
  },
  {
   "cell_type": "markdown",
   "metadata": {},
   "source": [
    "### parkinfo.csv와 병합"
   ]
  },
  {
   "cell_type": "code",
   "execution_count": 18,
   "metadata": {},
   "outputs": [],
   "source": [
    "train_data['closest_park_distance'] = find_closest_distance_kdtree(train_data, park_data)"
   ]
  },
  {
   "cell_type": "code",
   "execution_count": null,
   "metadata": {},
   "outputs": [],
   "source": [
    "print(train_data[['closest_subway_distance', 'closest_school_distance', 'closest_park_distance']].head())"
   ]
  },
  {
   "cell_type": "markdown",
   "metadata": {},
   "source": [
    "# 데이터 분포 확인"
   ]
  },
  {
   "cell_type": "markdown",
   "metadata": {},
   "source": [
    "### 지하철 위치 시각화"
   ]
  },
  {
   "cell_type": "code",
   "execution_count": null,
   "metadata": {},
   "outputs": [],
   "source": [
    "# 지하철 위치 시각화\n",
    "plt.figure(figsize=(10, 6))\n",
    "ax = plt.axes(projection=ccrs.PlateCarree())\n",
    "\n",
    "# 지도에 육지와 강을 추가\n",
    "ax.add_feature(cfeature.LAND)\n",
    "ax.add_feature(cfeature.COASTLINE)\n",
    "ax.add_feature(cfeature.BORDERS, linestyle=':')\n",
    "ax.add_feature(cfeature.RIVERS)\n",
    "\n",
    "# 지하철 위치 플로팅\n",
    "gdf_subway = gpd.GeoDataFrame(subway_data, geometry=gpd.points_from_xy(subway_data.longitude, subway_data.latitude))\n",
    "gdf_subway.plot(ax=ax, color='blue', markersize=5)\n",
    "\n",
    "plt.title('Subway Locations')\n",
    "plt.show()"
   ]
  },
  {
   "cell_type": "code",
   "execution_count": null,
   "metadata": {},
   "outputs": [],
   "source": [
    "# 히스토그램\n",
    "train_data.hist(bins=20, figsize=(14, 10), color='skyblue')\n",
    "plt.tight_layout()\n",
    "plt.show()"
   ]
  },
  {
   "cell_type": "code",
   "execution_count": null,
   "metadata": {},
   "outputs": [],
   "source": [
    "# 박스플롯 (Outlier 확인)\n",
    "plt.figure(figsize=(12, 6))\n",
    "sns.boxplot(data=train_data, palette='Set2')\n",
    "plt.title('Boxplot of Variables')\n",
    "plt.show()"
   ]
  },
  {
   "cell_type": "markdown",
   "metadata": {},
   "source": [
    "# 상관관계 분석"
   ]
  },
  {
   "cell_type": "code",
   "execution_count": null,
   "metadata": {},
   "outputs": [],
   "source": [
    "# 상관관계 히트맵\n",
    "plt.figure(figsize=(10, 8))\n",
    "sns.heatmap(train_data.corr(), annot=True, fmt=\".2f\", cmap='coolwarm', linewidths=0.2)\n",
    "plt.title('Correlation Heatmap')\n",
    "plt.show()"
   ]
  },
  {
   "cell_type": "markdown",
   "metadata": {},
   "source": [
    "### 전세가와 금리 분포 확인 및 비교"
   ]
  },
  {
   "cell_type": "code",
   "execution_count": null,
   "metadata": {},
   "outputs": [],
   "source": [
    "# 전세가 분포 시각화\n",
    "plt.figure(figsize=(10, 6))\n",
    "sns.histplot(train_data['deposit'], kde=True, bins=30)\n",
    "plt.title('Deposit Distribution')\n",
    "plt.xlabel('Deposit')\n",
    "plt.ylabel('Frequency')\n",
    "plt.show()\n",
    "\n",
    "# 금리 분포 시각화\n",
    "plt.figure(figsize=(10, 6))\n",
    "sns.histplot(train_data['interest_rate'], kde=True, color='red', bins=30)\n",
    "plt.title('Interest Rate Distribution')\n",
    "plt.xlabel('Interest Rate')\n",
    "plt.ylabel('Frequency')\n",
    "plt.show()"
   ]
  },
  {
   "cell_type": "markdown",
   "metadata": {},
   "source": [
    "### 계약 유형 별 전세가 비교"
   ]
  },
  {
   "cell_type": "code",
   "execution_count": null,
   "metadata": {},
   "outputs": [],
   "source": [
    "# 계약 유형별 전세가 상자 그림\n",
    "plt.figure(figsize=(10, 6))\n",
    "sns.boxplot(x='contract_type', y='deposit', data=train_data)\n",
    "plt.title('Deposit by Contract Type')\n",
    "plt.xlabel('Contract Type')\n",
    "plt.ylabel('Deposit')\n",
    "plt.show()"
   ]
  },
  {
   "cell_type": "markdown",
   "metadata": {},
   "source": [
    "### 건축 연도 별 전세가 비교"
   ]
  },
  {
   "cell_type": "code",
   "execution_count": null,
   "metadata": {},
   "outputs": [],
   "source": [
    "plt.figure(figsize=(10, 6))\n",
    "sns.scatterplot(x='built_year', y='deposit', data=train_data)\n",
    "plt.title('Deposit by Built Year')\n",
    "plt.xlabel('Built Year')\n",
    "plt.ylabel('Deposit')\n",
    "plt.show()"
   ]
  },
  {
   "cell_type": "markdown",
   "metadata": {},
   "source": [
    "### 층수별 전세가 비교"
   ]
  },
  {
   "cell_type": "code",
   "execution_count": null,
   "metadata": {},
   "outputs": [],
   "source": [
    "plt.figure(figsize=(10, 6))\n",
    "sns.boxplot(x='floor', y='deposit', data=train_data)\n",
    "plt.title('Deposit by Floor')\n",
    "plt.xlabel('Floor')\n",
    "plt.ylabel('Deposit')\n",
    "plt.show()\n"
   ]
  },
  {
   "cell_type": "markdown",
   "metadata": {},
   "source": [
    "### 면적과 전세가 비교"
   ]
  },
  {
   "cell_type": "code",
   "execution_count": null,
   "metadata": {},
   "outputs": [],
   "source": [
    "plt.figure(figsize=(10, 6))\n",
    "sns.scatterplot(x='area_m2', y='deposit', data=train_data)\n",
    "plt.title('Deposit by Area (m²)')\n",
    "plt.xlabel('Area (m²)')\n",
    "plt.ylabel('Deposit')\n",
    "plt.show()\n"
   ]
  },
  {
   "cell_type": "markdown",
   "metadata": {},
   "source": [
    "### latitude와 longitude를 활용한 전세가 지리적 분포 분석"
   ]
  },
  {
   "cell_type": "code",
   "execution_count": null,
   "metadata": {},
   "outputs": [],
   "source": [
    "# 위도와 경도를 기반으로 한 전세가 분포 시각화\n",
    "plt.figure(figsize=(10, 6))\n",
    "sns.scatterplot(x='longitude', y='latitude', hue='deposit', data=train_data, palette='coolwarm', alpha=0.6)\n",
    "plt.title('Geographical Distribution of Deposit')\n",
    "plt.xlabel('Longitude')\n",
    "plt.ylabel('Latitude')\n",
    "plt.show()"
   ]
  },
  {
   "cell_type": "code",
   "execution_count": null,
   "metadata": {},
   "outputs": [],
   "source": [
    "# 전세가 데이터를 GeoDataFrame으로 변환\n",
    "gdf_deposit = gpd.GeoDataFrame(train_data, geometry=gpd.points_from_xy(train_data.longitude, train_data.latitude))\n",
    "\n",
    "# 전세가 값에 따라 색상을 지정하기 위한 컬러맵 설정\n",
    "norm = plt.Normalize(vmin=gdf_deposit['deposit'].min(), vmax=gdf_deposit['deposit'].max())\n",
    "cmap = plt.cm.get_cmap('coolwarm')\n",
    "\n",
    "# 지도 생성\n",
    "plt.figure(figsize=(10, 6))\n",
    "ax = plt.axes(projection=ccrs.PlateCarree())\n",
    "\n",
    "# 지도에 육지, 해안선, 국경, 강 추가\n",
    "ax.add_feature(cfeature.LAND)\n",
    "ax.add_feature(cfeature.COASTLINE)\n",
    "ax.add_feature(cfeature.BORDERS, linestyle=':')\n",
    "ax.add_feature(cfeature.RIVERS)\n",
    "\n",
    "# 전세가에 따라 위치에 플로팅\n",
    "gdf_deposit.plot(ax=ax, color=gdf_deposit['deposit'].apply(lambda x: cmap(norm(x))), markersize=5)\n",
    "\n",
    "plt.title('Geographical Distribution of Deposit')\n",
    "plt.show()"
   ]
  },
  {
   "cell_type": "markdown",
   "metadata": {},
   "source": [
    "### 근접성 변수와 전세가의 관계"
   ]
  },
  {
   "cell_type": "code",
   "execution_count": null,
   "metadata": {},
   "outputs": [],
   "source": [
    "# 지하철과의 거리 vs 전세가\n",
    "plt.figure(figsize=(10, 6))\n",
    "sns.scatterplot(x='closest_subway_distance', y='deposit', data=train_data)\n",
    "plt.title('Deposit by Subway Distance')\n",
    "plt.xlabel('Closest Subway Distance')\n",
    "plt.ylabel('Deposit')\n",
    "plt.show()"
   ]
  },
  {
   "cell_type": "code",
   "execution_count": null,
   "metadata": {},
   "outputs": [],
   "source": [
    "# 학교와의 거리 vs 전세가\n",
    "plt.figure(figsize=(10, 6))\n",
    "sns.scatterplot(x='closest_school_distance', y='deposit', data=train_data)\n",
    "plt.title('Deposit by School Distance')\n",
    "plt.xlabel('Closest School Distance')\n",
    "plt.ylabel('Deposit')\n",
    "plt.show()"
   ]
  },
  {
   "cell_type": "code",
   "execution_count": null,
   "metadata": {},
   "outputs": [],
   "source": [
    "# 공원과의 거리 vs 전세가\n",
    "plt.figure(figsize=(10, 6))\n",
    "sns.scatterplot(x='closest_park_distance', y='deposit', data=train_data)\n",
    "plt.title('Deposit by Park Distance')\n",
    "plt.xlabel('Closest Park Distance')\n",
    "plt.ylabel('Deposit')\n",
    "plt.show()"
   ]
  },
  {
   "cell_type": "markdown",
   "metadata": {},
   "source": [
    "### 거리와 전세가의 관계\n",
    "지하철, 학교, 공원 거리: 각 거리와 전세가 간의 관계를 시각화한 결과\n",
    "- 거리가 가까울수록 전세가가 높아지는 경향 관찰\n",
    "- 즉, 접근성이 좋은 위치일수록 더 높은 전세가를 형성할 가능성 존재"
   ]
  },
  {
   "cell_type": "markdown",
   "metadata": {},
   "source": [
    "# 카테고리 변수 분석"
   ]
  },
  {
   "cell_type": "code",
   "execution_count": null,
   "metadata": {},
   "outputs": [],
   "source": [
    "# 범주형 변수의 빈도수 확인 (가상 변수 'category'로 예시)\n",
    "plt.figure(figsize=(8, 6))\n",
    "sns.countplot(x='contract_type', data=train_data, palette='muted')\n",
    "plt.title('Count of Categories')\n",
    "plt.show()"
   ]
  },
  {
   "cell_type": "markdown",
   "metadata": {},
   "source": [
    "### 계약 연월별 전세가 및 금리 추세"
   ]
  },
  {
   "cell_type": "code",
   "execution_count": 34,
   "metadata": {},
   "outputs": [],
   "source": [
    "train_data['contract_year_month'] = pd.to_datetime(train_data['contract_year_month'], format='%Y%m')\n",
    "monthly_avg = train_data.groupby('contract_year_month').agg({'deposit': 'mean', 'interest_rate': 'mean'}).reset_index()"
   ]
  },
  {
   "cell_type": "code",
   "execution_count": null,
   "metadata": {},
   "outputs": [],
   "source": [
    "# 계약 연월별 전세가 및 금리 추세 시각화 개선\n",
    "plt.figure(figsize=(12, 8))\n",
    "\n",
    "# 첫 번째 y축: 전세가 (Deposit) 시각화\n",
    "sns.lineplot(x='contract_year_month', y='deposit', data=monthly_avg, label='Average Deposit', color='blue')\n",
    "\n",
    "# 두 번째 y축: 금리 (Interest Rate) 시각화\n",
    "ax2 = plt.twinx()  # 두 번째 y축을 추가\n",
    "sns.lineplot(x='contract_year_month', y='interest_rate', data=monthly_avg, label='Average Interest Rate', color='red', ax=ax2)\n",
    "\n",
    "# 그래프 제목과 축 설정\n",
    "plt.title('Interest Rate and Deposit Over Time')\n",
    "plt.xlabel('Contract Year-Month')\n",
    "plt.ylabel('Deposit (Blue)', color='blue')\n",
    "ax2.set_ylabel('Interest Rate (Red)', color='red')\n",
    "\n",
    "# x축 라벨을 일정 간격으로 보기 쉽게 회전\n",
    "plt.xticks(rotation=45)\n",
    "\n",
    "# X축 간격 설정: 라벨이 겹치지 않도록 일정 간격만 표시\n",
    "plt.xticks(ticks=plt.gca().get_xticks()[::6])  # 라벨을 6개마다 한 번씩 표시\n",
    "\n",
    "# Y축 범위 설정: 금리의 변화를 더 잘 보이도록 조정\n",
    "ax2.set_ylim(monthly_avg['interest_rate'].min() - 0.5,monthly_avg['interest_rate'].max() + 0.5)\n",
    "\n",
    "plt.legend(loc=\"upper left\")\n",
    "plt.show()"
   ]
  },
  {
   "cell_type": "code",
   "execution_count": null,
   "metadata": {},
   "outputs": [],
   "source": [
    "# 시계열 분해 (계절성 및 트렌드 파악)\n",
    "result = seasonal_decompose(monthly_avg['deposit'], model='additive', period=12)\n",
    "result.plot()\n",
    "plt.show()"
   ]
  },
  {
   "cell_type": "markdown",
   "metadata": {},
   "source": [
    "- 전세가의 전반적인 상승 추세를 확인"
   ]
  },
  {
   "cell_type": "markdown",
   "metadata": {},
   "source": [
    "## 상호작용 효과 탐색"
   ]
  },
  {
   "cell_type": "code",
   "execution_count": null,
   "metadata": {},
   "outputs": [],
   "source": [
    "# 거리와 면적의 상호작용이 전세가에 미치는 영향\n",
    "plt.figure(figsize=(10, 6))\n",
    "sns.scatterplot(x='area_m2', y='closest_subway_distance', hue='deposit', data=train_data, palette='coolwarm')\n",
    "plt.title('Deposit by Area and Subway Distance')\n",
    "plt.xlabel('Area (m²)')\n",
    "plt.ylabel('closest_subway_distance')\n",
    "plt.show()"
   ]
  },
  {
   "cell_type": "code",
   "execution_count": null,
   "metadata": {},
   "outputs": [],
   "source": [
    "min(train_data['closest_subway_distance'])"
   ]
  },
  {
   "cell_type": "markdown",
   "metadata": {},
   "source": [
    "- 면적이 클수록 전세가가 증가하는 경향을 확인\n",
    "- 지하철과의 거리가 가까울수록 deposit 증가하는 경향을 확인"
   ]
  },
  {
   "cell_type": "markdown",
   "metadata": {},
   "source": [
    "### 지역별 분석"
   ]
  },
  {
   "cell_type": "code",
   "execution_count": null,
   "metadata": {},
   "outputs": [],
   "source": [
    "coords = train_data[['latitude', 'longitude']]\n",
    "wcss = []\n",
    "for i in range(1, 20):\n",
    "    kmeans = KMeans(n_clusters=i, random_state=42)\n",
    "    kmeans.fit(coords)\n",
    "    wcss.append(kmeans.inertia_)\n",
    "\n",
    "plt.plot(range(1, 20), wcss)\n",
    "plt.title('Elbow Method')\n",
    "plt.xlabel('Number of Clusters')\n",
    "plt.ylabel('WCSS')\n",
    "plt.show()"
   ]
  },
  {
   "cell_type": "markdown",
   "metadata": {},
   "source": [
    "### 엘보우 방법(Elbow Method)\n",
    "- 클러스터 수에 따른 WCSS(Within-Cluster Sum of Squares)를 계산하고, 그래프에서 급격한 변화가 있는 지점을 찾음\n",
    "- 이 지점이 적절한 클러스터 수\n",
    "- 여기서는 3"
   ]
  },
  {
   "cell_type": "code",
   "execution_count": null,
   "metadata": {},
   "outputs": [],
   "source": [
    "# 위도와 경도를 기반으로 KMeans 클러스터링\n",
    "coords = train_data[['latitude', 'longitude']]\n",
    "kmeans = KMeans(n_clusters=3, random_state=42).fit(coords)\n",
    "train_data['region'] = kmeans.labels_\n",
    "\n",
    "# 지역별 전세가 분포 시각화\n",
    "plt.figure(figsize=(10, 6))\n",
    "sns.boxplot(x='region', y='deposit', data=train_data)\n",
    "plt.title('Deposit Distribution by Region')\n",
    "plt.xlabel('Region')\n",
    "plt.ylabel('Deposit')\n",
    "plt.show()"
   ]
  },
  {
   "cell_type": "code",
   "execution_count": null,
   "metadata": {},
   "outputs": [],
   "source": [
    "# 클러스터별 색상 지정\n",
    "colors = {0: 'red', 1: 'blue', 2: 'green'}  # 3개의 클러스터에 각각 색상 지정\n",
    "\n",
    "# 시각화\n",
    "plt.figure(figsize=(10, 6))\n",
    "\n",
    "# 각 클러스터에 해당하는 점들을 색상별로 플롯\n",
    "for cluster, color in colors.items():\n",
    "    clustered_data = train_data[train_data['region'] == cluster]\n",
    "    plt.scatter(clustered_data['longitude'], clustered_data['latitude'], \n",
    "                c=color, label=f'Region {cluster}', alpha=0.5, s=10)\n",
    "\n",
    "# 제목 및 축 레이블 설정\n",
    "plt.title('KMeans Clustering of Regions (Based on Latitude and Longitude)')\n",
    "plt.xlabel('Longitude')\n",
    "plt.ylabel('Latitude')\n",
    "\n",
    "# 범례 추가\n",
    "plt.legend()\n",
    "\n",
    "# 시각화 표시\n",
    "plt.show()"
   ]
  },
  {
   "cell_type": "markdown",
   "metadata": {},
   "source": [
    "# Feature Engineering"
   ]
  },
  {
   "cell_type": "markdown",
   "metadata": {},
   "source": [
    "### 모델링에 필요한 라이브러리 임포트"
   ]
  },
  {
   "cell_type": "code",
   "execution_count": 28,
   "metadata": {},
   "outputs": [],
   "source": [
    "from sklearn.model_selection import train_test_split, KFold, cross_val_score, GridSearchCV\n",
    "from sklearn.linear_model import LinearRegression, Ridge, Lasso\n",
    "from sklearn.ensemble import RandomForestRegressor, GradientBoostingRegressor, VotingRegressor\n",
    "from sklearn.metrics import mean_absolute_error\n",
    "import xgboost as xgb\n",
    "import lightgbm as lgb\n",
    "from sklearn.preprocessing import StandardScaler\n",
    "import optuna"
   ]
  },
  {
   "cell_type": "code",
   "execution_count": 29,
   "metadata": {},
   "outputs": [],
   "source": [
    "# 날짜 관련 피처 생성\n",
    "train_data['contract_year_month'] = pd.to_datetime(train_data['contract_year_month'], format='%Y%m')\n",
    "train_data['contract_year'] = train_data['contract_year_month'].dt.year\n",
    "train_data['contract_month'] = train_data['contract_year_month'].dt.month\n",
    "train_data['contract_season'] = train_data['contract_year_month'].dt.quarter"
   ]
  },
  {
   "cell_type": "code",
   "execution_count": 30,
   "metadata": {},
   "outputs": [],
   "source": [
    "# 거리 로그 변환\n",
    "train_data['log_subway_distance'] = np.log1p(train_data['closest_subway_distance'])\n",
    "train_data['log_school_distance'] = np.log1p(train_data['closest_school_distance'])\n",
    "train_data['log_park_distance'] = np.log1p(train_data['closest_park_distance'])"
   ]
  },
  {
   "cell_type": "code",
   "execution_count": 31,
   "metadata": {},
   "outputs": [],
   "source": [
    "# 피처 및 타겟 설정\n",
    "X = train_data[['area_m2', 'floor', 'built_year', 'region', 'latitude', 'longitude', 'log_subway_distance', 'log_school_distance', 'log_park_distance', 'contract_year', 'contract_month', 'contract_season']]\n",
    "y = train_data['deposit']"
   ]
  },
  {
   "cell_type": "code",
   "execution_count": 32,
   "metadata": {},
   "outputs": [],
   "source": [
    "# 데이터 분리\n",
    "X_train, X_test, y_train, y_test = train_test_split(X, y, test_size=0.2, random_state=42)"
   ]
  },
  {
   "cell_type": "markdown",
   "metadata": {},
   "source": [
    "# Modeling"
   ]
  },
  {
   "cell_type": "code",
   "execution_count": 33,
   "metadata": {},
   "outputs": [],
   "source": [
    "# 모델 정의\n",
    "models = {\n",
    "    'LinearRegression': LinearRegression(),\n",
    "    'Ridge': Ridge(),\n",
    "    'Lasso': Lasso(),\n",
    "    #'RandomForest': RandomForestRegressor(n_estimators=50, max_depth=10, n_jobs=-1, random_state=42),\n",
    "    #'GradientBoosting': GradientBoostingRegressor(n_estimators=100, learning_rate=0.1, max_depth=3, random_state=42),\n",
    "    'XGBoost': xgb.XGBRegressor(tree_method='gpu_hist', gpu_id=0, random_state=42),\n",
    "    'LightGBM': lgb.LGBMRegressor(random_state=42)\n",
    "}"
   ]
  },
  {
   "cell_type": "markdown",
   "metadata": {},
   "source": [
    "### 기본 모델 적용 및 평가(K-Fold CV)"
   ]
  },
  {
   "cell_type": "code",
   "execution_count": 34,
   "metadata": {},
   "outputs": [],
   "source": [
    "# KFold 설정\n",
    "kf = KFold(n_splits=5, shuffle=True, random_state=42)"
   ]
  },
  {
   "cell_type": "code",
   "execution_count": null,
   "metadata": {},
   "outputs": [],
   "source": [
    "# 모델 학습 및 평가\n",
    "for name, model in models.items():\n",
    "    scores = cross_val_score(model, X_train, y_train, cv=kf, scoring='neg_mean_absolute_error')\n",
    "    print(f\"{name}: Mean MAE = {-scores.mean():.4f}, Std = {scores.std():.4f}\")"
   ]
  },
  {
   "cell_type": "markdown",
   "metadata": {},
   "source": [
    "### 하이퍼파라미터 튜닝(Optuna)"
   ]
  },
  {
   "cell_type": "code",
   "execution_count": null,
   "metadata": {},
   "outputs": [],
   "source": [
    "# def rf_objective(trial):\n",
    "#     n_estimators = trial.suggest_int('n_estimators', 50, 300)\n",
    "#     max_depth = trial.suggest_int('max_depth', 3, 20)\n",
    "#     min_samples_split = trial.suggest_int('min_samples_split', 2, 10)\n",
    "#     min_samples_leaf = trial.suggest_int('min_samples_leaf', 1, 4)\n",
    "    \n",
    "#     model = RandomForestRegressor(\n",
    "#         n_estimators=n_estimators,\n",
    "#         max_depth=max_depth,\n",
    "#         min_samples_split=min_samples_split,\n",
    "#         min_samples_leaf=min_samples_leaf,\n",
    "#         random_state=42\n",
    "#     )\n",
    "    \n",
    "#     score = cross_val_score(model, X_train, y_train, cv=kf, scoring='neg_mean_absolute_error')\n",
    "#     return -score.mean()\n",
    "\n",
    "# rf_study = optuna.create_study(direction='minimize')\n",
    "# rf_study.optimize(rf_objective, n_trials=50)\n",
    "# print(\"Best parameters for RandomForest: \", rf_study.best_params)"
   ]
  },
  {
   "cell_type": "code",
   "execution_count": null,
   "metadata": {},
   "outputs": [],
   "source": [
    "def xgb_objective(trial):\n",
    "    n_estimators = trial.suggest_int('n_estimators', 50, 300)\n",
    "    max_depth = trial.suggest_int('max_depth', 3, 20)\n",
    "    learning_rate = trial.suggest_float('learning_rate', 0.01, 0.3)\n",
    "    subsample = trial.suggest_float('subsample', 0.5, 1.0)\n",
    "    \n",
    "    model = xgb.XGBRegressor(\n",
    "        n_estimators=n_estimators,\n",
    "        max_depth=max_depth,\n",
    "        learning_rate=learning_rate,\n",
    "        subsample=subsample,\n",
    "        tree_method='gpu_hist',\n",
    "        gpu_id=0,\n",
    "        random_state=42\n",
    "    )\n",
    "    \n",
    "    score = cross_val_score(model, X_train, y_train, cv=kf, scoring='neg_mean_absolute_error')\n",
    "    return -score.mean()\n",
    "\n",
    "xgb_study = optuna.create_study(direction='minimize')\n",
    "xgb_study.optimize(xgb_objective, n_trials=50)\n",
    "print(\"Best parameters for XGBoost: \", xgb_study.best_params)"
   ]
  },
  {
   "cell_type": "code",
   "execution_count": null,
   "metadata": {},
   "outputs": [],
   "source": [
    "def lgb_objective(trial):\n",
    "    n_estimators = trial.suggest_int('n_estimators', 50, 300)\n",
    "    max_depth = trial.suggest_int('max_depth', -1, 20) # -1 means no limit\n",
    "    learning_rate = trial.suggest_float('learning_rate', 0.01, 0.3)\n",
    "    num_leaves = trial.suggest_int('num_leaves', 2, 256)\n",
    "    \n",
    "    model = lgb.LGBMRegressor(\n",
    "        n_estimators=n_estimators,\n",
    "        max_depth=max_depth,\n",
    "        learning_rate=learning_rate,\n",
    "        num_leaves=num_leaves,\n",
    "        random_state=42\n",
    "    )\n",
    "    \n",
    "    score = cross_val_score(model, X_train, y_train, cv=kf, scoring='neg_mean_absolute_error')\n",
    "    return -score.mean()\n",
    "\n",
    "lgb_study = optuna.create_study(direction='minimize')\n",
    "lgb_study.optimize(lgb_objective, n_trials=50)\n",
    "print(\"Best parameters for LightGBM: \", lgb_study.best_params)"
   ]
  },
  {
   "cell_type": "markdown",
   "metadata": {},
   "source": [
    "# 앙상블 모델(Voting Regressor)"
   ]
  },
  {
   "cell_type": "code",
   "execution_count": 41,
   "metadata": {},
   "outputs": [],
   "source": [
    "xgb_tmp_best_params = {'n_estimators': 267, 'max_depth': 20, 'learning_rate': 0.03474061231102679, 'subsample': 0.7137831707849674}"
   ]
  },
  {
   "cell_type": "code",
   "execution_count": null,
   "metadata": {},
   "outputs": [],
   "source": [
    "## 최적화된 하이퍼파라미터를 반영한 모델 정의\n",
    "#rf_best = RandomForestRegressor(**rf_study.best_params, random_state=42)\n",
    "xgb_best = xgb.XGBRegressor(**xgb_tmp_best_params, tree_method='gpu_hist', gpu_id=0, random_state=42)\n",
    "#lgb_best = lgb.LGBMRegressor(**lgb_study.best_params, random_state=42)\n",
    "# voting_regressor = VotingRegressor(estimators=[\n",
    "#     #('rf', rf_best),\n",
    "#     ('xgb', xgb_best),\n",
    "#     ('lgb', lgb_best)\n",
    "# ])\n",
    "\n",
    "voting_scores = cross_val_score(xgb_best, X_train, y_train, cv=kf, scoring='neg_mean_absolute_error')\n",
    "print(f\"Voting Regressor: Mean MAE = {-voting_scores.mean():.4f}, Std = {voting_scores.std():.4f}\")"
   ]
  },
  {
   "cell_type": "code",
   "execution_count": null,
   "metadata": {},
   "outputs": [],
   "source": [
    "model_names = ['XGBoost', 'LightGBM', 'Voting Regressor']\n",
    "model_mae = [\n",
    "    #-rf_study.best_value,\n",
    "    xgb_study.best_value,\n",
    "    lgb_study.best_value,\n",
    "    -voting_scores.mean()\n",
    "]\n",
    "\n",
    "plt.figure(figsize=(10, 6))\n",
    "plt.bar(model_names, model_mae, color=['green', 'orange', 'red'])\n",
    "plt.ylabel('MAE')\n",
    "plt.title('Model Comparison')\n",
    "plt.show()"
   ]
  },
  {
   "cell_type": "code",
   "execution_count": null,
   "metadata": {},
   "outputs": [],
   "source": [
    "# 5. Voting Regressor로 예측 수행\n",
    "xgb_best.fit(X_train, y_train)\n",
    "y_pred = xgb_best.predict(X_test)\n",
    "mae = mean_absolute_error(y_test, y_pred)\n",
    "print(f\"Final Model MAE: {mae:.4f}\")"
   ]
  },
  {
   "cell_type": "code",
   "execution_count": null,
   "metadata": {},
   "outputs": [],
   "source": [
    "# 6. 결과 분석 및 시각화\n",
    "# 실제값과 예측값 비교\n",
    "plt.figure(figsize=(10, 6))\n",
    "plt.plot(y_test, y_pred, alpha=0.3, color='blue')\n",
    "plt.plot([min(y_test), max(y_test)], [min(y_test), max(y_test)], color='red', linestyle='--')\n",
    "plt.xlabel('Actual Deposit')\n",
    "plt.ylabel('Predicted Deposit')\n",
    "plt.title('Actual vs Predicted Deposit')\n",
    "plt.show()"
   ]
  },
  {
   "cell_type": "markdown",
   "metadata": {},
   "source": [
    "# 실제 test.csv를 활용하여 output.csv 만들기"
   ]
  },
  {
   "cell_type": "code",
   "execution_count": 45,
   "metadata": {},
   "outputs": [],
   "source": [
    "# test_data와 interest_data 병합\n",
    "test_data['contract_year_month'] = test_data['contract_year_month'].astype(str)\n",
    "interest_data['year_month'] = interest_data['year_month'].astype(str)\n",
    "\n",
    "# left join을 통해 금리 데이터를 병합\n",
    "test_data = pd.merge(test_data, interest_data, how='left', left_on='contract_year_month', right_on='year_month')\n",
    "\n",
    "# 중복된 열 제거\n",
    "test_data.drop(columns=['year_month'], inplace=True)"
   ]
  },
  {
   "cell_type": "code",
   "execution_count": 46,
   "metadata": {},
   "outputs": [],
   "source": [
    "# 거리 관련\n",
    "test_data['closest_subway_distance'] = find_closest_distance_kdtree(test_data, subway_data)\n",
    "test_data['closest_school_distance'] = find_closest_distance_kdtree(test_data, school_data)\n",
    "test_data['closest_park_distance'] = find_closest_distance_kdtree(test_data, park_data)"
   ]
  },
  {
   "cell_type": "code",
   "execution_count": 47,
   "metadata": {},
   "outputs": [],
   "source": [
    "# 날짜 관련 피처 생성\n",
    "test_data['contract_year_month'] = pd.to_datetime(test_data['contract_year_month'], format='%Y%m')\n",
    "test_data['contract_year'] = test_data['contract_year_month'].dt.year\n",
    "test_data['contract_month'] = test_data['contract_year_month'].dt.month\n",
    "test_data['contract_season'] = test_data['contract_year_month'].dt.quarter"
   ]
  },
  {
   "cell_type": "code",
   "execution_count": 48,
   "metadata": {},
   "outputs": [],
   "source": [
    "# 거리 로그 변환\n",
    "test_data['log_subway_distance'] = np.log1p(test_data['closest_subway_distance'])\n",
    "test_data['log_school_distance'] = np.log1p(test_data['closest_school_distance'])\n",
    "test_data['log_park_distance'] = np.log1p(test_data['closest_park_distance'])"
   ]
  },
  {
   "cell_type": "code",
   "execution_count": 49,
   "metadata": {},
   "outputs": [],
   "source": [
    "# 위도와 경도를 기반으로 KMeans 클러스터링\n",
    "coords = test_data[['latitude', 'longitude']]\n",
    "kmeans = KMeans(n_clusters=3, random_state=42).fit(coords)\n",
    "test_data['region'] = kmeans.labels_"
   ]
  },
  {
   "cell_type": "code",
   "execution_count": 50,
   "metadata": {},
   "outputs": [],
   "source": [
    "# 피처 및 타겟 설정\n",
    "final_test = test_data[['area_m2', 'floor', 'built_year', 'region', 'latitude', 'longitude', 'log_subway_distance', 'log_school_distance', 'log_park_distance', 'contract_year', 'contract_month', 'contract_season']]"
   ]
  },
  {
   "cell_type": "code",
   "execution_count": 51,
   "metadata": {},
   "outputs": [],
   "source": [
    "voting_regressor_test_pred = xgb_best.predict(final_test)\n",
    "sample_submission['deposit'] = voting_regressor_test_pred\n",
    "sample_submission.to_csv('output.csv', index=False, encoding='utf-8-sig')"
   ]
  }
 ],
 "metadata": {
  "kernelspec": {
   "display_name": "base",
   "language": "python",
   "name": "python3"
  },
  "language_info": {
   "codemirror_mode": {
    "name": "ipython",
    "version": 3
   },
   "file_extension": ".py",
   "mimetype": "text/x-python",
   "name": "python",
   "nbconvert_exporter": "python",
   "pygments_lexer": "ipython3",
   "version": "3.10.13"
  }
 },
 "nbformat": 4,
 "nbformat_minor": 2
}
