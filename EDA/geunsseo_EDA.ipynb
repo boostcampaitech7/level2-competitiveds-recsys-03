{
 "cells": [
  {
   "cell_type": "markdown",
   "metadata": {},
   "source": [
    "# Library Import"
   ]
  },
  {
   "cell_type": "code",
   "execution_count": null,
   "metadata": {},
   "outputs": [],
   "source": [
    "import os\n",
    "import pandas as pd\n",
    "import numpy as np\n",
    "import matplotlib.pyplot as plt\n",
    "import seaborn as sns\n",
    "import geopandas as gpd\n",
    "from sklearn.neighbors import BallTree\n",
    "from xgboost import XGBRegressor\n",
    "from sklearn.model_selection import KFold, cross_val_score\n",
    "from sklearn.metrics import mean_absolute_error\n",
    "from typing import Type\n",
    "import optuna"
   ]
  },
  {
   "cell_type": "markdown",
   "metadata": {},
   "source": [
    "# Data Load"
   ]
  },
  {
   "cell_type": "code",
   "execution_count": null,
   "metadata": {},
   "outputs": [],
   "source": [
    "# train, test 데이터 불러오기\n",
    "data_path: str = \"~/house/data\"\n",
    "train_data: pd.DataFrame = pd.read_csv(os.path.join(data_path, \"train.csv\"))\n",
    "test_data: pd.DataFrame = pd.read_csv(os.path.join(data_path, \"test.csv\"))\n",
    "sample_submission: pd.DataFrame = pd.read_csv(os.path.join(data_path, \"sample_submission.csv\"))"
   ]
  },
  {
   "cell_type": "code",
   "execution_count": null,
   "metadata": {},
   "outputs": [],
   "source": [
    "# 금리, 지하철, 학교, 공원 정보 불러오기\n",
    "interest_data: pd.DataFrame = pd.read_csv(os.path.join(data_path, \"interestRate.csv\"))\n",
    "subway_data: pd.DataFrame = pd.read_csv(os.path.join(data_path, \"subwayInfo.csv\"))\n",
    "school_data: pd.DataFrame = pd.read_csv(os.path.join(data_path, \"schoolinfo.csv\"))\n",
    "park_data: pd.DataFrame = pd.read_csv(os.path.join(data_path, \"parkInfo.csv\"))"
   ]
  },
  {
   "cell_type": "markdown",
   "metadata": {},
   "source": [
    "# Data Merge"
   ]
  },
  {
   "cell_type": "markdown",
   "metadata": {},
   "source": [
    "## 1. 금리 데이터 병합\n",
    "* `interest_data`: 2018년 12월 ~ 2024년 5월까지의 금리\n",
    "* 계약 연월 기준으로 `interest_data`를 `train_data`로 병합 (2019년 4월 ~ 2023년 12월)\n",
    "* 계약 연월 기준으로 `interest_data`를 `test_data`로 병합 (2024년 1월 ~ 2024년 6월)"
   ]
  },
  {
   "cell_type": "code",
   "execution_count": null,
   "metadata": {},
   "outputs": [],
   "source": [
    "train_data"
   ]
  },
  {
   "cell_type": "code",
   "execution_count": null,
   "metadata": {},
   "outputs": [],
   "source": [
    "test_data"
   ]
  },
  {
   "cell_type": "code",
   "execution_count": null,
   "metadata": {},
   "outputs": [],
   "source": [
    "interest_data"
   ]
  },
  {
   "cell_type": "code",
   "execution_count": null,
   "metadata": {},
   "outputs": [],
   "source": [
    "# 계약 연월 기준으로 interest_data를 train_data로 병합\n",
    "merged_train = pd.merge(train_data, interest_data, left_on=\"contract_year_month\", right_on=\"year_month\", how=\"left\")\n",
    "merged_train = merged_train.drop(columns=[\"year_month\"])\n",
    "merged_train"
   ]
  },
  {
   "cell_type": "code",
   "execution_count": null,
   "metadata": {},
   "outputs": [],
   "source": [
    "# 계약 연월 기준으로 interest_data를 test_data로 병합\n",
    "merged_test = pd.merge(test_data, interest_data, left_on=\"contract_year_month\", right_on=\"year_month\", how=\"left\")\n",
    "merged_test = merged_test.drop(columns=[\"year_month\"])\n",
    "merged_test"
   ]
  },
  {
   "cell_type": "code",
   "execution_count": null,
   "metadata": {},
   "outputs": [],
   "source": [
    "# 금리 결측치 개수 확인 (2024년 6월)\n",
    "merged_test[merged_test[\"interest_rate\"].isnull()][\"contract_year_month\"].value_counts()"
   ]
  },
  {
   "cell_type": "markdown",
   "metadata": {},
   "source": [
    "## 2. 최단거리 데이터 병합"
   ]
  },
  {
   "cell_type": "markdown",
   "metadata": {},
   "source": [
    "### sklearn의 BallTree를 활용한 haversine 거리 계산 함수"
   ]
  },
  {
   "cell_type": "code",
   "execution_count": null,
   "metadata": {},
   "outputs": [],
   "source": [
    "# 건물-공공장소 사이의 최단거리 장소를 반환하는 함수 정의\n",
    "def find_closest_distance_haversine(\n",
    "    train_data: pd.DataFrame, \n",
    "    loc_df: pd.DataFrame\n",
    ") -> pd.DataFrame:\n",
    "    \"\"\"건물과 지하철/학교/공원 사이의 최단 haversine 거리와 위치 정보를 반환하는 함수\n",
    "\n",
    "    Args:\n",
    "        train_data (pd.DataFrame): 학습(훈련) 또는 테스트 데이터프레임\n",
    "        loc_df (pd.DataFrame): 위도, 경도를 column으로 갖는 데이터프레임\n",
    "\n",
    "    Returns:\n",
    "        pd.DataFrame: index, 위도, 경도, 최단 haversine 거리를 column으로 갖는 데이터프레임\n",
    "    \"\"\"\n",
    "    # degree -> radian 값으로 변환 (for 삼각함수)\n",
    "    train_coords = np.radians(train_data[[\"latitude\", \"longitude\"]].values)\n",
    "    loc_coords = np.radians(loc_df[[\"latitude\", \"longitude\"]].values)\n",
    "    \n",
    "    # Ball Tree 생성 \n",
    "    tree = BallTree(loc_coords, metric=\"haversine\")\n",
    "\n",
    "    distances, indices = tree.query(train_coords, k=1) # 가까운 1 지점만 \n",
    "    distances_meter = distances * 6371000 # 단위를 meter로 변환\n",
    "\n",
    "    closest_coords = loc_df[[\"latitude\", \"longitude\"]].iloc[indices.flatten()].values # 가까운 지점 좌표\n",
    "\n",
    "    # index, 최단거리, 최단거리에 해당하는 지점의 위도, 경도로 이루어진 데이터프레임 생성\n",
    "    result_df = pd.DataFrame({\n",
    "        \"index\" : train_data.index,\n",
    "        \"closest_distance\" : distances_meter.flatten(),\n",
    "        \"closest_latitude\" : closest_coords[:, 0],\n",
    "        \"closest_longtitude\" : closest_coords[:, 1]\n",
    "    })\n",
    "\n",
    "    return result_df"
   ]
  },
  {
   "cell_type": "markdown",
   "metadata": {},
   "source": [
    "### subway 병합"
   ]
  },
  {
   "cell_type": "code",
   "execution_count": null,
   "metadata": {},
   "outputs": [],
   "source": [
    "subway_result = find_closest_distance_haversine(train_data, subway_data)\n",
    "subway_result.columns = [\"index\", \"nearest_subway_distance\", \"nearest_subway_latitude\", \"nearest_subway_longtitude\"]\n",
    "train_data = pd.merge(train_data, subway_result, on=\"index\")"
   ]
  },
  {
   "cell_type": "code",
   "execution_count": null,
   "metadata": {},
   "outputs": [],
   "source": [
    "subway_result = find_closest_distance_haversine(test_data, subway_data)\n",
    "subway_result.columns = [\"index\", \"nearest_subway_distance\", \"nearest_subway_latitude\", \"nearest_subway_longtitude\"]\n",
    "test_data = pd.merge(test_data, subway_result, on=\"index\")"
   ]
  },
  {
   "cell_type": "markdown",
   "metadata": {},
   "source": [
    "### school 병합"
   ]
  },
  {
   "cell_type": "code",
   "execution_count": null,
   "metadata": {},
   "outputs": [],
   "source": [
    "school_result = find_closest_distance_haversine(train_data, school_data)\n",
    "school_result.columns = [\"index\", \"nearest_school_distance\", \"nearest_school_latitude\", \"nearest_school_longtitude\"]\n",
    "train_data = pd.merge(train_data, school_result, on=\"index\")"
   ]
  },
  {
   "cell_type": "code",
   "execution_count": null,
   "metadata": {},
   "outputs": [],
   "source": [
    "school_result = find_closest_distance_haversine(test_data, school_data)\n",
    "school_result.columns = [\"index\", \"nearest_school_distance\", \"nearest_school_latitude\", \"nearest_school_longtitude\"]\n",
    "test_data = pd.merge(test_data, school_result, on=\"index\")"
   ]
  },
  {
   "cell_type": "markdown",
   "metadata": {},
   "source": [
    "### park 병합"
   ]
  },
  {
   "cell_type": "code",
   "execution_count": null,
   "metadata": {},
   "outputs": [],
   "source": [
    "park_result = find_closest_distance_haversine(train_data, park_data)\n",
    "park_result.columns = [\"index\", \"nearest_park_distance\", \"nearest_park_latitude\", \"nearest_park_longtitude\"]\n",
    "train_data = pd.merge(train_data, park_result, on=\"index\")"
   ]
  },
  {
   "cell_type": "code",
   "execution_count": null,
   "metadata": {},
   "outputs": [],
   "source": [
    "park_result = find_closest_distance_haversine(test_data, park_data)\n",
    "park_result.columns = [\"index\", \"nearest_park_distance\", \"nearest_park_latitude\", \"nearest_park_longtitude\"]\n",
    "test_data = pd.merge(test_data, park_result, on=\"index\")"
   ]
  },
  {
   "cell_type": "markdown",
   "metadata": {},
   "source": [
    "## 3. 데이터 병합 결과 확인"
   ]
  },
  {
   "cell_type": "code",
   "execution_count": null,
   "metadata": {},
   "outputs": [],
   "source": [
    "on = merged_train.columns.drop(\"interest_rate\").tolist() # 병합 기준이 될 column 리스트\n",
    "train_data = pd.merge(merged_train, train_data, on=on, how=\"left\")\n",
    "# train_data = train_data.drop(columns=[\"index\"])\n",
    "train_data"
   ]
  },
  {
   "cell_type": "code",
   "execution_count": null,
   "metadata": {},
   "outputs": [],
   "source": [
    "on = merged_test.columns.drop(\"interest_rate\").tolist() # 병합 기준이 될 column 리스트\n",
    "test_data = pd.merge(merged_test, test_data, on=on, how=\"left\")\n",
    "# test_data = test_data.drop(columns=[\"index\"])\n",
    "test_data"
   ]
  },
  {
   "cell_type": "markdown",
   "metadata": {},
   "source": [
    "# 이상치 탐지"
   ]
  },
  {
   "cell_type": "code",
   "execution_count": null,
   "metadata": {},
   "outputs": [],
   "source": [
    "# 이상치 탐지 함수 정의\n",
    "def find_outliers(data: pd.Series) -> pd.Series:\n",
    "    \"\"\"안 울타리(inner fence) 밖에 있는 데이터(이상치, outlier)를 반환하는 함수\n",
    "\n",
    "    Args:\n",
    "        data (pd.Series): 이상치 탐지를 하고싶은 데이터의 column\n",
    "\n",
    "    Returns:\n",
    "        pd.Series: 이상치에 해당하는 데이터 Series 반환\n",
    "    \"\"\"\n",
    "    Q1 = data.quantile(0.25)\n",
    "    Q3 = data.quantile(0.75)\n",
    "    IQR = Q3 - Q1\n",
    "    lower_bound = Q1 - 1.5 * IQR\n",
    "    upper_bound = Q3 + 1.5 * IQR\n",
    "    return data[(data < lower_bound) | (data > upper_bound)]"
   ]
  },
  {
   "cell_type": "markdown",
   "metadata": {},
   "source": [
    "# EDA"
   ]
  },
  {
   "cell_type": "markdown",
   "metadata": {},
   "source": [
    "## 1. 기술통계량"
   ]
  },
  {
   "cell_type": "markdown",
   "metadata": {},
   "source": [
    "### 1.1 train data\n",
    "\n",
    "- **`area_m2`**: 면적 (제곱미터)  \n",
    "- **`contract_year_month`**: 계약 연월  \n",
    "- **`contract_day`**: 계약일  \n",
    "- **`contract_type`**: 계약 유형 (0: 신규, 1: 갱신, 2: 모름)  \n",
    "- **`floor`**: 층수  \n",
    "- **`built_year`**: 건축 연도  \n",
    "- **`latitude`**: 위도  \n",
    "- **`longitude`**: 경도  \n",
    "- **`age`**: 건물의 나이 (계산된 값)  \n",
    "- **`deposit`**: 전세 실거래가 (타겟 변수)"
   ]
  },
  {
   "cell_type": "markdown",
   "metadata": {},
   "source": [
    "- **참고**: 건물 나이(age) = 계약 연도(contract_year) - 건축 연도(built_year): 현 시점의 나이가 아니라 계약 시점의 나이!"
   ]
  },
  {
   "cell_type": "code",
   "execution_count": null,
   "metadata": {},
   "outputs": [],
   "source": [
    "# 건물 나이(age) = 계약 연도(contract_year) - 건축 연도(built_year): 현 시점의 나이가 아니라 계약 시점의 나이!\n",
    "(train_data[\"age\"] == (train_data[\"contract_year_month\"] // 100) - train_data[\"built_year\"]).value_counts()"
   ]
  },
  {
   "cell_type": "code",
   "execution_count": null,
   "metadata": {},
   "outputs": [],
   "source": [
    "# train_data 결측치 & 데이터 타입 확인\n",
    "train_data.info()"
   ]
  },
  {
   "cell_type": "code",
   "execution_count": null,
   "metadata": {},
   "outputs": [],
   "source": [
    "# train data 기술통계량 확인\n",
    "train_data.describe()"
   ]
  },
  {
   "cell_type": "markdown",
   "metadata": {},
   "source": [
    "#### 1.1.1 column별 종류, 개수 확인"
   ]
  },
  {
   "cell_type": "code",
   "execution_count": null,
   "metadata": {},
   "outputs": [],
   "source": [
    "# 면적 종류, 개수 확인\n",
    "print(\"area(m2): \", train_data[\"area_m2\"].sort_values().unique())\n",
    "print(\"\", len(train_data[\"area_m2\"].sort_values().unique()))"
   ]
  },
  {
   "cell_type": "code",
   "execution_count": null,
   "metadata": {},
   "outputs": [],
   "source": [
    "# 계약 연월 종류, 개수 확인\n",
    "print(train_data[\"contract_year_month\"].sort_values().unique()) # 201904 ~ 202312\n",
    "print(len(train_data[\"contract_year_month\"].sort_values().unique()))"
   ]
  },
  {
   "cell_type": "code",
   "execution_count": null,
   "metadata": {},
   "outputs": [],
   "source": [
    "# 계약일 종류, 개수 확인\n",
    "print(train_data[\"contract_day\"].sort_values().unique())\n",
    "print(len(train_data[\"contract_day\"].sort_values().unique()))"
   ]
  },
  {
   "cell_type": "code",
   "execution_count": null,
   "metadata": {},
   "outputs": [],
   "source": [
    "# 계약 유형 확인\n",
    "print(train_data[\"contract_type\"].value_counts())"
   ]
  },
  {
   "cell_type": "code",
   "execution_count": null,
   "metadata": {},
   "outputs": [],
   "source": [
    "# 층수 종류, 개수 확인\n",
    "print(\"floor: \", train_data[\"floor\"].sort_values().unique())  # -4층 ~ 0층을 어떻게 처리할지 고민해봐야 한다.\n",
    "print(\"# of floor: \", len(train_data[\"floor\"].sort_values().unique())) # -4층 ~ 68층까지 연속적인 층수"
   ]
  },
  {
   "cell_type": "code",
   "execution_count": null,
   "metadata": {},
   "outputs": [],
   "source": [
    "# 층수가 음수인 건물 개수 확인\n",
    "train_data[\"floor\"].value_counts().sort_index()"
   ]
  },
  {
   "cell_type": "code",
   "execution_count": null,
   "metadata": {},
   "outputs": [],
   "source": [
    "# 층수가 음수인 건물 확인\n",
    "train_data[(train_data[\"built_year\"] != 2024) & (train_data[\"floor\"] <= 0)]"
   ]
  },
  {
   "cell_type": "code",
   "execution_count": null,
   "metadata": {},
   "outputs": [],
   "source": [
    "# 건축 연도 종류, 개수 확인\n",
    "print(\"built year: \", train_data[\"built_year\"].sort_values().unique()) # 1961년을 제외한 1965~2023년까지는 연속적인 연도 / 2024년은 훈련 데이터에서 제거해야 한다.\n",
    "print(\"# of built year: \", len(train_data[\"built_year\"].sort_values().unique()))"
   ]
  },
  {
   "cell_type": "code",
   "execution_count": null,
   "metadata": {},
   "outputs": [],
   "source": [
    "# 건물 나이 종류, 개수 확인\n",
    "print(\"building age: \", train_data[\"age\"].sort_values().unique()) # -3, -2, -1을 어떻게 처리할지 고민해봐야 한다. (가계약? -> 준공 전 계약)\n",
    "print(\"# of building age: \", len(train_data[\"age\"].sort_values().unique()))"
   ]
  },
  {
   "cell_type": "code",
   "execution_count": null,
   "metadata": {},
   "outputs": [],
   "source": [
    "# 전세 실거래가 종류, 개수 확인\n",
    "print(\"deposit: \", train_data[\"deposit\"].sort_values().unique()) # -3, -2, -1을 어떻게 처리할지 고민해봐야 한다. (가계약? -> 준공 전 계약)\n",
    "print(\"# of deposit: \", len(train_data[\"deposit\"].sort_values().unique())) # "
   ]
  },
  {
   "cell_type": "code",
   "execution_count": null,
   "metadata": {},
   "outputs": [],
   "source": [
    "# 건축 연도가 2024년인 데이터 수 확인: 총 97개\n",
    "print(train_data.loc[train_data[\"built_year\"] == 2024])"
   ]
  },
  {
   "cell_type": "code",
   "execution_count": null,
   "metadata": {},
   "outputs": [],
   "source": [
    "# 건축 연도가 2024년인 건물 나이 확인: -3, -1\n",
    "print(\"age built in 2024: \", train_data[train_data[\"built_year\"] == 2024][\"age\"].unique())"
   ]
  },
  {
   "cell_type": "code",
   "execution_count": null,
   "metadata": {},
   "outputs": [],
   "source": [
    "# 건물의 나이가 음수인 건물의 건축 연도 확인 (2024년 제외)\n",
    "age_year = train_data[(train_data[\"built_year\"] != 2024) & (train_data[\"age\"] < 0)]\n",
    "age_year"
   ]
  },
  {
   "cell_type": "code",
   "execution_count": null,
   "metadata": {},
   "outputs": [],
   "source": [
    "print(\"age: \", age_year[\"age\"].sort_values().unique()) # 2024년 외에도 -3, -1 있는지 확인\n",
    "print(\"built year: \", age_year[\"built_year\"].sort_values().unique()) # 2024년 이외 건축연도 확인"
   ]
  },
  {
   "cell_type": "markdown",
   "metadata": {},
   "source": [
    "- 나이가 음수인 건물은 \n",
    "    - -3: 3개\n",
    "    - -2: 28개\n",
    "    - -1: 3323개\n",
    "- 나이가 음수인 건물의 계약 연도는 2019년 5월 이후\n",
    "- 나이가 음수인 건물은 건축 연도가 2020년 이후"
   ]
  },
  {
   "cell_type": "code",
   "execution_count": null,
   "metadata": {},
   "outputs": [],
   "source": [
    "age_year[\"deposit\"].describe()"
   ]
  },
  {
   "cell_type": "code",
   "execution_count": null,
   "metadata": {},
   "outputs": [],
   "source": [
    "fig, ax =  plt.subplots(figsize=(12, 5))\n",
    "sns.boxplot(data=age_year, x=\"deposit\")\n",
    "plt.show()"
   ]
  },
  {
   "cell_type": "code",
   "execution_count": null,
   "metadata": {},
   "outputs": [],
   "source": [
    "# 가장 큰 이상치 확인\n",
    "age_year.loc[age_year[\"deposit\"] == max(age_year[\"deposit\"])]"
   ]
  },
  {
   "cell_type": "code",
   "execution_count": null,
   "metadata": {},
   "outputs": [],
   "source": [
    "# 가장 큰 이상치 제거하고 boxplot\n",
    "fig, ax =  plt.subplots(figsize=(12, 5))\n",
    "sns.boxplot(x=age_year[\"deposit\"].drop(1344709, axis=0))\n",
    "plt.show()"
   ]
  },
  {
   "cell_type": "code",
   "execution_count": null,
   "metadata": {},
   "outputs": [],
   "source": [
    "# 건물의 나이가 음수인 건물의 계약, 건축 연도 확인 (2024년 제외)\n",
    "\n",
    "print(\"contract year: \", (age_year[\"contract_year_month\"]//100).unique())\n",
    "print(\"built year\", age_year[\"built_year\"].unique())\n",
    "print(\"age: \", age_year[\"age\"].unique())\n",
    "\n",
    "# age_year[[\"contract_year_month\", \"built_year\", \"age\"]]\n",
    "# grouped = age_year.groupby(\"age\")\n",
    "# for name, group in grouped:\n",
    "#     print(name)\n",
    "#     print(group)"
   ]
  },
  {
   "cell_type": "markdown",
   "metadata": {},
   "source": [
    "### 1.2 interest data"
   ]
  },
  {
   "cell_type": "code",
   "execution_count": null,
   "metadata": {},
   "outputs": [],
   "source": [
    "interest_data"
   ]
  },
  {
   "cell_type": "code",
   "execution_count": null,
   "metadata": {},
   "outputs": [],
   "source": [
    "# 금리 데이터 결측치 & 데이터 타입 확인\n",
    "interest_data.info()"
   ]
  },
  {
   "cell_type": "code",
   "execution_count": null,
   "metadata": {},
   "outputs": [],
   "source": [
    "# 금리 데이터 기술통계량 확인\n",
    "interest_data.describe()"
   ]
  },
  {
   "cell_type": "code",
   "execution_count": null,
   "metadata": {},
   "outputs": [],
   "source": [
    "# 금리 연월 종류, 개수 확인 (나중에 계약 연월과 비교 위해)\n",
    "print(interest_data[\"year_month\"].sort_values().unique()) # 2018년 12월 ~ 2024년 5월\n",
    "print(len(interest_data[\"year_month\"].sort_values().unique()))"
   ]
  },
  {
   "cell_type": "markdown",
   "metadata": {},
   "source": [
    "### 1.3 subway data"
   ]
  },
  {
   "cell_type": "code",
   "execution_count": null,
   "metadata": {},
   "outputs": [],
   "source": [
    "subway_data"
   ]
  },
  {
   "cell_type": "code",
   "execution_count": null,
   "metadata": {},
   "outputs": [],
   "source": [
    "# 지하철 데이터 결측치 & 데이터 타입 확인\n",
    "subway_data.info()"
   ]
  },
  {
   "cell_type": "code",
   "execution_count": null,
   "metadata": {},
   "outputs": [],
   "source": [
    "# 지하철 데이터 기술통계량 확인\n",
    "subway_data.describe()"
   ]
  },
  {
   "cell_type": "markdown",
   "metadata": {},
   "source": [
    "### 1.4 school data"
   ]
  },
  {
   "cell_type": "code",
   "execution_count": null,
   "metadata": {},
   "outputs": [],
   "source": [
    "school_data"
   ]
  },
  {
   "cell_type": "code",
   "execution_count": null,
   "metadata": {},
   "outputs": [],
   "source": [
    "# 학교 데이터 결측치 & 데이터 타입 확인\n",
    "school_data.info()"
   ]
  },
  {
   "cell_type": "code",
   "execution_count": null,
   "metadata": {},
   "outputs": [],
   "source": [
    "# 학교 데이터 기술통계량 확인\n",
    "school_data.describe(include=\"all\")"
   ]
  },
  {
   "cell_type": "code",
   "execution_count": null,
   "metadata": {},
   "outputs": [],
   "source": [
    "# 학교 종류별 개수 확인\n",
    "print(school_data[\"schoolLevel\"].value_counts())\n",
    "print(school_data[\"schoolLevel\"].value_counts(normalize=True))"
   ]
  },
  {
   "cell_type": "markdown",
   "metadata": {},
   "source": [
    "### 1.5 park data"
   ]
  },
  {
   "cell_type": "code",
   "execution_count": null,
   "metadata": {},
   "outputs": [],
   "source": [
    "park_data"
   ]
  },
  {
   "cell_type": "code",
   "execution_count": null,
   "metadata": {},
   "outputs": [],
   "source": [
    "# 공원 데이터 결측치 & 데이터 타입 확인\n",
    "park_data.info()"
   ]
  },
  {
   "cell_type": "code",
   "execution_count": null,
   "metadata": {},
   "outputs": [],
   "source": [
    "# 공원 데이터 기술통계량 확인\n",
    "park_data.describe()"
   ]
  },
  {
   "cell_type": "markdown",
   "metadata": {},
   "source": [
    "## 2. 데이터 시각화"
   ]
  },
  {
   "cell_type": "markdown",
   "metadata": {},
   "source": [
    "### [Univariate]\n",
    "### 2.1 Box Plot"
   ]
  },
  {
   "cell_type": "markdown",
   "metadata": {},
   "source": [
    "#### 2.1.1 train data"
   ]
  },
  {
   "cell_type": "code",
   "execution_count": null,
   "metadata": {},
   "outputs": [],
   "source": [
    "# train data 상자 그림 시각화 (인덱스, 계약 유형 제외)\n",
    "fig, axes =  plt.subplots(1, train_data.drop(columns=[\"index\", \"contract_type\"]).shape[1], figsize=(30, 7))\n",
    "\n",
    "for idx, col in enumerate(train_data.drop(columns=[\"index\", \"contract_type\"])):\n",
    "    sns.boxplot(data=train_data.drop(columns=[\"index\", \"contract_type\"]), y=col, ax=axes[idx])\n",
    "\n",
    "    axes[idx].set_title(col)\n",
    "    axes[idx].set_ylabel(\"\")\n",
    "\n",
    "plt.show()"
   ]
  },
  {
   "cell_type": "markdown",
   "metadata": {},
   "source": [
    "만약 계약 유형별 feature들의 상자 그림이 궁금하다면?"
   ]
  },
  {
   "cell_type": "code",
   "execution_count": null,
   "metadata": {},
   "outputs": [],
   "source": [
    "# train data 상자 그림 시각화 (인덱스, 계약 유형 제외)\n",
    "fig, axes =  plt.subplots(1, train_data.drop(columns=[\"index\", \"contract_type\"]).shape[1], figsize=(30, 7))\n",
    "\n",
    "for idx, col in enumerate(train_data.drop(columns=[\"index\", \"contract_type\"])):\n",
    "    sns.boxplot(data=train_data.drop(columns=[\"index\", \"contract_type\"]), y=col, ax=axes[idx],\n",
    "                hue=train_data[\"contract_type\"]\n",
    "                )\n",
    "\n",
    "    axes[idx].set_title(col)\n",
    "    axes[idx].set_ylabel(\"\")\n",
    "\n",
    "plt.show()"
   ]
  },
  {
   "cell_type": "code",
   "execution_count": null,
   "metadata": {},
   "outputs": [],
   "source": [
    "sns.boxplot(data=train_data, x=\"contract_type\", y=\"deposit\", hue=\"contract_type\")\n",
    "plt.show()"
   ]
  },
  {
   "cell_type": "markdown",
   "metadata": {},
   "source": [
    "#### 2.1.2 interest data"
   ]
  },
  {
   "cell_type": "code",
   "execution_count": null,
   "metadata": {},
   "outputs": [],
   "source": [
    "# 금리 상자 그림 시각화 (금리 연월 제외)\n",
    "sns.boxplot(data=interest_data, y=\"interest_rate\")\n",
    "plt.show()"
   ]
  },
  {
   "cell_type": "markdown",
   "metadata": {},
   "source": [
    "#### 2.1.3 subway data"
   ]
  },
  {
   "cell_type": "code",
   "execution_count": null,
   "metadata": {},
   "outputs": [],
   "source": [
    "# 지하철 위도, 경도 상자 그림 시각화\n",
    "fig, axes =  plt.subplots(1, 2, figsize=(12, 5))\n",
    "sns.boxplot(data=subway_data, y=\"latitude\", ax=axes[0])\n",
    "sns.boxplot(data=subway_data, y=\"longitude\", ax=axes[1])\n",
    "plt.show()"
   ]
  },
  {
   "cell_type": "markdown",
   "metadata": {},
   "source": [
    "#### 2.1.4 school data"
   ]
  },
  {
   "cell_type": "code",
   "execution_count": null,
   "metadata": {},
   "outputs": [],
   "source": [
    "# 학교 위도, 경도 상자 그림 시각화\n",
    "fig, axes =  plt.subplots(1, 2, figsize=(12, 5))\n",
    "sns.boxplot(data=school_data, y=\"latitude\", ax=axes[0])\n",
    "sns.boxplot(data=school_data, y=\"longitude\", ax=axes[1])\n",
    "plt.show()"
   ]
  },
  {
   "cell_type": "code",
   "execution_count": null,
   "metadata": {},
   "outputs": [],
   "source": [
    "# 학교 레벨에 따른 위도, 경도 상자 그림 시각화\n",
    "fig, axes =  plt.subplots(1, 2, figsize=(12, 5))\n",
    "sns.boxplot(school_data, x=\"schoolLevel\", y=\"latitude\", ax=axes[0])\n",
    "sns.boxplot(school_data, x=\"schoolLevel\", y=\"longitude\", ax=axes[1])\n",
    "plt.show()"
   ]
  },
  {
   "cell_type": "markdown",
   "metadata": {},
   "source": [
    "#### 2.1.5 park data"
   ]
  },
  {
   "cell_type": "code",
   "execution_count": null,
   "metadata": {},
   "outputs": [],
   "source": [
    "# 공원 위도, 경도, 면적 상자 그림 시각화 (금리 연월 제외)\n",
    "fig, axes =  plt.subplots(1, 3, figsize=(18, 5))\n",
    "sns.boxplot(data=park_data, y=\"latitude\", ax=axes[0])\n",
    "sns.boxplot(data=park_data, y=\"longitude\", ax=axes[1])\n",
    "sns.boxplot(data=park_data, y=\"area\", ax=axes[2])\n",
    "plt.show()"
   ]
  },
  {
   "cell_type": "markdown",
   "metadata": {},
   "source": [
    "### 2.2 Histogram / Count Plot"
   ]
  },
  {
   "cell_type": "markdown",
   "metadata": {},
   "source": [
    "#### 2.2.1 train data"
   ]
  },
  {
   "cell_type": "markdown",
   "metadata": {},
   "source": [
    "##### 면적 분포"
   ]
  },
  {
   "cell_type": "code",
   "execution_count": null,
   "metadata": {},
   "outputs": [],
   "source": [
    "# 면적 히스토그램 시각화\n",
    "fig, ax =  plt.subplots(figsize=(15, 5))\n",
    "sns.histplot(data=train_data, x=\"area_m2\", bins=np.arange(0, 310, 10))\n",
    "plt.show()"
   ]
  },
  {
   "cell_type": "markdown",
   "metadata": {},
   "source": [
    "##### 계약 연/월/일 분포"
   ]
  },
  {
   "cell_type": "code",
   "execution_count": null,
   "metadata": {},
   "outputs": [],
   "source": [
    "# 계약 연/월/일별 히스토그램 시각화\n",
    "fig, axes =  plt.subplots(3, 1, figsize=(10, 12))\n",
    "\n",
    "sns.histplot(x=(train_data[\"contract_year_month\"] // 100).sort_values().astype(str), ax=axes[0])\n",
    "sns.histplot(x=(train_data[\"contract_year_month\"] % 100).sort_values().astype(str), ax=axes[1])\n",
    "sns.histplot(x=train_data[\"contract_day\"].sort_values().astype(str), ax=axes[2])\n",
    "plt.show()"
   ]
  },
  {
   "cell_type": "markdown",
   "metadata": {},
   "source": [
    "##### 계약 유형 분포"
   ]
  },
  {
   "cell_type": "code",
   "execution_count": null,
   "metadata": {},
   "outputs": [],
   "source": [
    "print(train_data[\"contract_type\"].value_counts())\n",
    "print(train_data[\"contract_type\"].value_counts(normalize=True))"
   ]
  },
  {
   "cell_type": "code",
   "execution_count": null,
   "metadata": {},
   "outputs": [],
   "source": [
    "# 계약 유형별 빈도수 시각화\n",
    "sns.countplot(data=train_data, x=\"contract_type\", hue=\"contract_type\")\n",
    "plt.show()"
   ]
  },
  {
   "cell_type": "markdown",
   "metadata": {},
   "source": [
    "##### 층수 분포"
   ]
  },
  {
   "cell_type": "code",
   "execution_count": null,
   "metadata": {},
   "outputs": [],
   "source": [
    "# 층수 히스토그램 시각화\n",
    "fig, ax =  plt.subplots(figsize=(20, 5))\n",
    "sns.histplot(train_data[\"floor\"].sort_values().astype(str))#, kde=True)\n",
    "plt.show()"
   ]
  },
  {
   "cell_type": "markdown",
   "metadata": {},
   "source": [
    "##### 건축 연도 분포"
   ]
  },
  {
   "cell_type": "code",
   "execution_count": null,
   "metadata": {},
   "outputs": [],
   "source": [
    "# 건축 연도 히스토그램 시각화\n",
    "fig, ax =  plt.subplots(figsize=(20, 5))\n",
    "sns.histplot((train_data[\"built_year\"].sort_values() % 100).astype(str))#, kde=True)\n",
    "plt.show()"
   ]
  },
  {
   "cell_type": "markdown",
   "metadata": {},
   "source": [
    "##### 위도, 경도 분포"
   ]
  },
  {
   "cell_type": "code",
   "execution_count": null,
   "metadata": {},
   "outputs": [],
   "source": [
    "# 위도, 경도 히스토그램 시각화\n",
    "fig, axes =  plt.subplots(2, 1, figsize=(15, 10))\n",
    "sns.histplot(train_data[\"latitude\"], kde=True, bins=100, ax=axes[0])\n",
    "sns.histplot(train_data[\"longitude\"], kde=True, bins=100, ax=axes[1])\n",
    "plt.show()"
   ]
  },
  {
   "cell_type": "markdown",
   "metadata": {},
   "source": [
    "##### 건물 나이 분포"
   ]
  },
  {
   "cell_type": "code",
   "execution_count": null,
   "metadata": {},
   "outputs": [],
   "source": [
    "# 건물 나이 히스토그램 시각화\n",
    "fig, ax =  plt.subplots(figsize=(20, 5))\n",
    "sns.histplot(train_data[\"age\"].sort_values().astype(str), kde=True)\n",
    "plt.show()"
   ]
  },
  {
   "cell_type": "markdown",
   "metadata": {},
   "source": [
    "##### 전세 실거래가 분포"
   ]
  },
  {
   "cell_type": "code",
   "execution_count": null,
   "metadata": {},
   "outputs": [],
   "source": [
    "# 전세 실거래가 히스토그램 시각화\n",
    "fig, ax = plt.subplots(figsize=(20, 5))\n",
    "sns.histplot(data=train_data, x=\"deposit\", kde=True)\n",
    "plt.show()"
   ]
  },
  {
   "cell_type": "markdown",
   "metadata": {},
   "source": [
    "#### 2.2.2 interest data"
   ]
  },
  {
   "cell_type": "code",
   "execution_count": null,
   "metadata": {},
   "outputs": [],
   "source": [
    "# 금리 히스토그램 시각화\n",
    "sns.histplot(data=interest_data, x=\"interest_rate\", bins=np.arange(0.5, 4.5, 0.1))\n",
    "plt.show()"
   ]
  },
  {
   "cell_type": "markdown",
   "metadata": {},
   "source": [
    "#### 2.2.3 subway data"
   ]
  },
  {
   "cell_type": "code",
   "execution_count": null,
   "metadata": {},
   "outputs": [],
   "source": [
    "# 학교 위도, 경도 히스토그램 시각화\n",
    "fig, axes =  plt.subplots(2, 1, figsize=(15, 10))\n",
    "sns.histplot(data=subway_data, x=\"latitude\", kde=True, ax=axes[0])\n",
    "sns.histplot(data=subway_data, x=\"longitude\", kde=True, ax=axes[1])\n",
    "plt.show()"
   ]
  },
  {
   "cell_type": "markdown",
   "metadata": {},
   "source": [
    "#### 2.2.4 school data"
   ]
  },
  {
   "cell_type": "code",
   "execution_count": null,
   "metadata": {},
   "outputs": [],
   "source": [
    "# 학교 레벨별 위도, 경도 히스토그램 시각화\n",
    "fig, axes =  plt.subplots(2, 1, figsize=(15, 10))\n",
    "sns.histplot(data=school_data, x=\"latitude\", hue=\"schoolLevel\", multiple=\"stack\", kde=True, ax=axes[0])\n",
    "sns.histplot(data=school_data, x=\"longitude\", hue=\"schoolLevel\", multiple=\"stack\", kde=True, ax=axes[1])\n",
    "plt.show()"
   ]
  },
  {
   "cell_type": "markdown",
   "metadata": {},
   "source": [
    "#### 2.2.5 park data"
   ]
  },
  {
   "cell_type": "code",
   "execution_count": null,
   "metadata": {},
   "outputs": [],
   "source": [
    "# 공원 위도, 경도 히스토그램 시각화\n",
    "fig, axes =  plt.subplots(2, 1, figsize=(15, 10))\n",
    "sns.histplot(data=park_data, x=\"latitude\", kde=True, ax=axes[0])\n",
    "sns.histplot(data=park_data, x=\"longitude\", kde=True, ax=axes[1])\n",
    "plt.show()"
   ]
  },
  {
   "cell_type": "code",
   "execution_count": null,
   "metadata": {},
   "outputs": [],
   "source": [
    "# 공원 면적 히스토그램 시각화\n",
    "# fig, axes =  plt.subplots(figsize=(15, 5))\n",
    "sns.histplot(data=park_data, x=\"area\")\n",
    "plt.show()"
   ]
  },
  {
   "cell_type": "markdown",
   "metadata": {},
   "source": [
    "### [Bivariate]\n",
    "### 2.3 Scatter Plot"
   ]
  },
  {
   "cell_type": "code",
   "execution_count": null,
   "metadata": {},
   "outputs": [],
   "source": [
    "# # train data 산점도 시각화 (인덱스 제외)\n",
    "# fig, axes =  plt.subplots(3, 3, figsize=(15, 15))\n",
    "\n",
    "# for idx, col in enumerate(train_data.drop(columns=[\"index\", \"contract_type\"])):\n",
    "#     sns.scatterplot(data=train_data.drop(columns=[\"index\", \"contract_type\"]), x=col, y=\"deposit\",\n",
    "#             #    hue=train_data[\"contract_type\"], # 계약 유형별 산점도가 보고싶은 경우\n",
    "#                ax=axes[idx//3, idx%3])\n",
    "    \n",
    "#     if idx // 3 != 0:\n",
    "#         axes[idx//3, idx%3].set_ylabel(\"\")\n",
    "\n",
    "# plt.show()"
   ]
  },
  {
   "cell_type": "markdown",
   "metadata": {},
   "source": [
    "### 2.4 Lineplot"
   ]
  },
  {
   "cell_type": "markdown",
   "metadata": {},
   "source": [
    "#### (계약 연월 순) 전세가, 금리 선 그래프 시각화"
   ]
  },
  {
   "cell_type": "code",
   "execution_count": null,
   "metadata": {},
   "outputs": [],
   "source": [
    "# 계약연월 int -> date 타입으로 변환\n",
    "train_data_copy = train_data.copy()\n",
    "interest_data_copy = interest_data.copy()\n",
    "\n",
    "train_data_copy[\"contract_year_month\"] = pd.to_datetime(train_data_copy[\"contract_year_month\"], format=\"%Y%m\")\n",
    "interest_data_copy[\"year_month\"] = pd.to_datetime(interest_data_copy[\"year_month\"], format=\"%Y%m\")\n",
    "\n",
    "# 계약 연월별 평균 전세가, 금리 데이터프레임 생성\n",
    "monthly_avg_deposit = train_data_copy.groupby(\"contract_year_month\").agg({\"deposit\": \"mean\"}).reset_index()\n",
    "monthly_avg_interest = interest_data_copy.groupby(\"year_month\").agg({\"interest_rate\": \"mean\"}).reset_index()\n",
    "\n",
    "# 계약 연월 기준으로 두 데이터프레임 병합\n",
    "monthly_avg = monthly_avg_deposit.merge(monthly_avg_interest, left_on=\"contract_year_month\", right_on=\"year_month\", how=\"left\")\n",
    "monthly_avg.drop(columns=['year_month'], inplace=True)\n",
    "monthly_avg.head()"
   ]
  },
  {
   "cell_type": "code",
   "execution_count": null,
   "metadata": {},
   "outputs": [],
   "source": [
    "# 계약 연월에 따른 (평균) 전세가, 금리 시계열 데이터 시각화\n",
    "fig, ax =  plt.subplots(figsize=(12, 5))\n",
    "sns.lineplot(data=monthly_avg, x=\"contract_year_month\", y=\"deposit\", label=\"deposit\")\n",
    "plt.legend(loc=\"upper center\")\n",
    "plt.twinx()\n",
    "sns.lineplot(data=monthly_avg, x=\"contract_year_month\", y=\"interest_rate\", color=\"orange\", label=\"interest_rate\")\n",
    "\n",
    "plt.legend(loc=\"lower center\")\n",
    "plt.show()"
   ]
  },
  {
   "cell_type": "markdown",
   "metadata": {},
   "source": [
    "### 2.5 Heatmap"
   ]
  },
  {
   "cell_type": "code",
   "execution_count": null,
   "metadata": {},
   "outputs": [],
   "source": [
    "# train data 변수별 상관행렬(히트맵) 시각화\n",
    "fig, ax = plt.subplots(figsize=(10, 9))\n",
    "sns.heatmap(train_data.drop(columns=\"index\").corr(), ax=ax,\n",
    "            vmin=-1, vmax=1, center=0,\n",
    "            cmap=\"coolwarm\",\n",
    "            annot=True, fmt=\".2f\",\n",
    "            linewidth=0.1,\n",
    "           )\n",
    "plt.show()"
   ]
  },
  {
   "cell_type": "markdown",
   "metadata": {},
   "source": [
    "## 3. Clustering (미완)"
   ]
  },
  {
   "cell_type": "markdown",
   "metadata": {},
   "source": [
    "# Feature Engineering"
   ]
  },
  {
   "cell_type": "code",
   "execution_count": null,
   "metadata": {},
   "outputs": [],
   "source": [
    "# 공공장소 최단거리-전세가 산점도 시각화 (train data)\n",
    "fig, axes = plt.subplots(1, 3, figsize=(15, 5))\n",
    "sns.scatterplot(x=\"nearest_subway_distance\", y=\"deposit\", data=train_data, ax=axes[0])\n",
    "sns.scatterplot(x=\"nearest_school_distance\", y=\"deposit\", data=train_data, ax=axes[1])\n",
    "sns.scatterplot(x=\"nearest_park_distance\", y=\"deposit\", data=train_data, ax=axes[2])\n",
    "plt.show()"
   ]
  },
  {
   "cell_type": "code",
   "execution_count": null,
   "metadata": {},
   "outputs": [],
   "source": [
    "# 공공장소 최단거리 히스토그램 시각화 (train data)\n",
    "fig, axes = plt.subplots(1, 3, figsize=(15, 5))\n",
    "sns.histplot(x=\"nearest_subway_distance\", data=train_data, ax=axes[0])\n",
    "sns.histplot(x=\"nearest_school_distance\", data=train_data, ax=axes[1])\n",
    "sns.histplot(x=\"nearest_park_distance\", data=train_data, ax=axes[2])\n",
    "plt.show()"
   ]
  },
  {
   "cell_type": "code",
   "execution_count": null,
   "metadata": {},
   "outputs": [],
   "source": [
    "# 공공장소 최단거리 히스토그램 시각화 (test data)\n",
    "fig, axes = plt.subplots(1, 3, figsize=(15, 5))\n",
    "sns.histplot(x=\"nearest_subway_distance\", data=test_data, ax=axes[0])\n",
    "sns.histplot(x=\"nearest_school_distance\", data=test_data, ax=axes[1])\n",
    "sns.histplot(x=\"nearest_park_distance\", data=test_data, ax=axes[2])\n",
    "plt.show()"
   ]
  },
  {
   "cell_type": "code",
   "execution_count": null,
   "metadata": {},
   "outputs": [],
   "source": [
    "# 건축 연도 2024년, 음수 층수 데이터 제거 (train data)\n",
    "train_data = train_data[(train_data[\"built_year\"] < 2024) & (train_data[\"floor\"] >= 0)]"
   ]
  },
  {
   "cell_type": "code",
   "execution_count": null,
   "metadata": {},
   "outputs": [],
   "source": [
    "# 날짜 데이터 변환\n",
    "# train_data[\"contract_year_month\"] = pd.to_datetime(train_data[\"contract_year_month\"], format=\"%Y%m\")\n",
    "# train_data[\"built_year\"] = pd.to_datetime(train_data[\"built_year\"], format=\"%Y\")\n",
    "\n",
    "# test_data[\"contract_year_month\"] = pd.to_datetime(test_data[\"contract_year_month\"], format=\"%Y%m\")\n",
    "# test_data[\"built_year\"] = pd.to_datetime(test_data[\"built_year\"], format=\"%Y\")"
   ]
  },
  {
   "cell_type": "code",
   "execution_count": null,
   "metadata": {},
   "outputs": [],
   "source": [
    "# 면적, 층수, 전세가 로그 변환 (train data)\n",
    "train_data[\"log_area_m2\"] = np.log1p(train_data[\"area_m2\"])\n",
    "train_data[\"log_floor\"] = np.log1p(train_data[\"floor\"])\n",
    "train_data[\"log_deposit\"] = np.log1p(train_data[\"deposit\"])\n",
    "# 면적, 층수 로그 변환 (test data)\n",
    "test_data[\"log_area_m2\"] = np.log1p(test_data[\"area_m2\"])\n",
    "test_data[\"log_floor\"] = np.log1p(test_data[\"floor\"])\n",
    "\n",
    "# 거리 로그 변환 (train data)\n",
    "train_data[\"log_subway_distance\"] = np.log1p(train_data[\"nearest_subway_distance\"])\n",
    "train_data[\"log_school_distance\"] = np.log1p(train_data[\"nearest_school_distance\"])\n",
    "train_data[\"log_park_distance\"] = np.log1p(train_data[\"nearest_park_distance\"])\n",
    "# 거리 로그 변환 (test data)\n",
    "test_data[\"log_subway_distance\"] = np.log1p(test_data[\"nearest_subway_distance\"])\n",
    "test_data[\"log_school_distance\"] = np.log1p(test_data[\"nearest_school_distance\"])\n",
    "test_data[\"log_park_distance\"] = np.log1p(test_data[\"nearest_park_distance\"])"
   ]
  },
  {
   "cell_type": "code",
   "execution_count": null,
   "metadata": {},
   "outputs": [],
   "source": [
    "# 학습에 사용할 feautre 선택\n",
    "cols = [\"log_area_m2\", \"log_floor\", \"log_subway_distance\", \"log_school_distance\", \"log_park_distance\", \"contract_year_month\", \"built_year\", \"interest_rate\", \"latitude\", \"longitude\"]\n",
    "X_train = train_data[cols]\n",
    "y_train = train_data[\"log_deposit\"]\n",
    "X_test = test_data[cols]"
   ]
  },
  {
   "cell_type": "markdown",
   "metadata": {},
   "source": [
    "# Model Training"
   ]
  },
  {
   "cell_type": "code",
   "execution_count": null,
   "metadata": {},
   "outputs": [],
   "source": [
    "# 모델 객체 생성\n",
    "model = XGBRegressor(tree_method=\"hist\", device=\"cuda\", random_state=42)\n",
    "# model.get_params()\n",
    "model.fit(X_train, y_train)"
   ]
  },
  {
   "cell_type": "markdown",
   "metadata": {},
   "source": [
    "## Cross Validation"
   ]
  },
  {
   "cell_type": "code",
   "execution_count": null,
   "metadata": {},
   "outputs": [],
   "source": [
    "# k-fold 교차 검증 객체 생성\n",
    "kfold = KFold(n_splits=5)\n",
    "\n",
    "# k-fold 교차 검증으로 모델 예측 및 평가\n",
    "score = cross_val_score(model, X_train, y_train, cv=kfold, scoring='neg_mean_absolute_error')\n",
    "print(f\"average of MAE for k-fold CV = {-score.mean():.4f}\")"
   ]
  },
  {
   "cell_type": "markdown",
   "metadata": {},
   "source": [
    "## Hyperparameter Tuning"
   ]
  },
  {
   "cell_type": "code",
   "execution_count": null,
   "metadata": {},
   "outputs": [],
   "source": [
    "# 목적함수 정의\n",
    "def objective(trial: Type[optuna.trial.Trial]) -> float:\n",
    "    \"\"\"하이퍼파라미터셋 탐색을 최적화할 목적함수\n",
    "\n",
    "    Args:\n",
    "        trial (Type[optuna.trial.Trial]): optuna.trial.Trial 클래스\n",
    "\n",
    "    Returns:\n",
    "        float: 설정한 평가지표 (현재는 MAE)\n",
    "    \"\"\"\n",
    "    params = {\n",
    "        \"n_estimators\": trial.suggest_int(\"n_estimators\", 50, 300),\n",
    "        \"learning_rate\": trial.suggest_float(\"learning_rate\", 0.01, 0.2),\n",
    "        \"max_depth\": trial.suggest_int(\"max_depth\", 3, 10),\n",
    "        \"subsample\": trial.suggest_float(\"subsample\", 0.5, 1.0),\n",
    "        \"tree_method\": \"hist\",\n",
    "        \"device\": \"cuda\",\n",
    "        \"random_state\": 42\n",
    "    }\n",
    "    model = XGBRegressor(**params)\n",
    "    score = cross_val_score(model, X_train, y_train, cv=kfold, scoring=\"neg_mean_absolute_error\")\n",
    "    return -score.mean()"
   ]
  },
  {
   "cell_type": "code",
   "execution_count": null,
   "metadata": {},
   "outputs": [],
   "source": [
    "# optuna로 튜닝한 하이퍼파라미터셋, 평가지표 탐색\n",
    "study = optuna.create_study(direction=\"minimize\")\n",
    "study.optimize(objective, n_trials=50)\n",
    "best_params = study.best_params\n",
    "print(\"Best parameters for XGBoost: \", best_params)"
   ]
  },
  {
   "cell_type": "markdown",
   "metadata": {},
   "source": [
    "# Inference"
   ]
  },
  {
   "cell_type": "code",
   "execution_count": null,
   "metadata": {},
   "outputs": [],
   "source": [
    "# 모델 추론\n",
    "best_model = XGBRegressor(\n",
    "    **best_params,\n",
    "    # tree_method=\"hist\",\n",
    "    # device=\"cuda\", # 현재 두 옵션 활성화하면 predict에서 error 발생\n",
    "    random_state=42\n",
    ")\n",
    "best_model.fit(X_train, y_train)\n",
    "y_pred_log = best_model.predict(X_test)\n",
    "y_pred = np.expm1(y_pred_log) # 지수변환 (로그변환의 역변환)"
   ]
  },
  {
   "cell_type": "code",
   "execution_count": null,
   "metadata": {},
   "outputs": [],
   "source": [
    "# 지수변환 전/후 예측값 히스토그램 시각화\n",
    "fig, axes = plt.subplots(1, 2, figsize=(15, 5))\n",
    "sns.histplot(y_pred_log, ax=axes[0])\n",
    "sns.histplot(y_pred, ax=axes[1])\n",
    "plt.show()"
   ]
  },
  {
   "cell_type": "markdown",
   "metadata": {},
   "source": [
    "# Outut Files Save"
   ]
  },
  {
   "cell_type": "code",
   "execution_count": null,
   "metadata": {},
   "outputs": [],
   "source": [
    "sample_submission[\"deposit\"] = y_pred\n",
    "sample_submission.to_csv(\"output.csv\", index=False)"
   ]
  }
 ],
 "metadata": {
  "kernelspec": {
   "display_name": "faceswap_conda",
   "language": "python",
   "name": "python3"
  },
  "language_info": {
   "codemirror_mode": {
    "name": "ipython",
    "version": 3
   },
   "file_extension": ".py",
   "mimetype": "text/x-python",
   "name": "python",
   "nbconvert_exporter": "python",
   "pygments_lexer": "ipython3",
   "version": "3.10.13"
  }
 },
 "nbformat": 4,
 "nbformat_minor": 2
}
